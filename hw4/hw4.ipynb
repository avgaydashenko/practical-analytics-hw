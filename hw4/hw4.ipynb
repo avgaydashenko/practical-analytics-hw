{
 "cells": [
  {
   "cell_type": "code",
   "execution_count": 1,
   "metadata": {},
   "outputs": [],
   "source": [
    "import pandas as pd\n",
    "import numpy as np\n",
    "import seaborn as sns\n",
    "import matplotlib.pyplot as plt\n",
    "\n",
    "from scipy.stats import mannwhitneyu, kruskal\n",
    "\n",
    "%matplotlib inline"
   ]
  },
  {
   "cell_type": "markdown",
   "metadata": {},
   "source": [
    "Исходные данные я немного преобразовала для того, чтобы они занимали меньше памяти. И общую табличку разбила на контроль и тест, и сохранила их отдельно. Весь код, проделывающий это, закомментирован."
   ]
  },
  {
   "cell_type": "code",
   "execution_count": 2,
   "metadata": {},
   "outputs": [],
   "source": [
    "# data = pd.read_table('log.txt', header=None, names=['slot', 'userID', 'ts', 'browser', 'all_cl'])\n",
    "\n",
    "# for row in data.iterrows():\n",
    "#     row = row[1]\n",
    "#     for cl in data.columns:\n",
    "#         row[cl] = row[cl][len(cl)+1:]\n",
    "\n",
    "# data['all_cl'] = data['all_cl'].astype(int)"
   ]
  },
  {
   "cell_type": "code",
   "execution_count": 3,
   "metadata": {},
   "outputs": [],
   "source": [
    "# control = data[data['slot'] == 'control']\n",
    "# exp = data[data['slot'] == 'exp']\n",
    "\n",
    "# control = control.drop('slot', axis=1)\n",
    "# exp = exp.drop('slot', axis=1)\n",
    "\n",
    "# control.to_csv('control.csv')\n",
    "# exp.to_csv('exp.csv')"
   ]
  },
  {
   "cell_type": "code",
   "execution_count": 4,
   "metadata": {},
   "outputs": [
    {
     "name": "stderr",
     "output_type": "stream",
     "text": [
      "/usr/local/Cellar/anaconda3/lib/python3.6/site-packages/numpy/lib/arraysetops.py:395: FutureWarning: elementwise comparison failed; returning scalar instead, but in the future will perform elementwise comparison\n",
      "  mask |= (ar1 == a)\n"
     ]
    }
   ],
   "source": [
    "control = pd.read_csv('control.csv', index_col=0)\n",
    "exp = pd.read_csv('exp.csv', index_col=0)"
   ]
  },
  {
   "cell_type": "code",
   "execution_count": 5,
   "metadata": {},
   "outputs": [
    {
     "data": {
      "text/html": [
       "<div>\n",
       "<style scoped>\n",
       "    .dataframe tbody tr th:only-of-type {\n",
       "        vertical-align: middle;\n",
       "    }\n",
       "\n",
       "    .dataframe tbody tr th {\n",
       "        vertical-align: top;\n",
       "    }\n",
       "\n",
       "    .dataframe thead th {\n",
       "        text-align: right;\n",
       "    }\n",
       "</style>\n",
       "<table border=\"1\" class=\"dataframe\">\n",
       "  <thead>\n",
       "    <tr style=\"text-align: right;\">\n",
       "      <th></th>\n",
       "      <th>userID</th>\n",
       "      <th>ts</th>\n",
       "      <th>browser</th>\n",
       "      <th>all_cl</th>\n",
       "    </tr>\n",
       "  </thead>\n",
       "  <tbody>\n",
       "    <tr>\n",
       "      <th>17</th>\n",
       "      <td>6</td>\n",
       "      <td>2016-03-03</td>\n",
       "      <td>Browser #4</td>\n",
       "      <td>3</td>\n",
       "    </tr>\n",
       "    <tr>\n",
       "      <th>27</th>\n",
       "      <td>8</td>\n",
       "      <td>2016-03-03</td>\n",
       "      <td>Browser #4</td>\n",
       "      <td>1</td>\n",
       "    </tr>\n",
       "    <tr>\n",
       "      <th>31</th>\n",
       "      <td>10</td>\n",
       "      <td>2016-03-03</td>\n",
       "      <td>Browser #4</td>\n",
       "      <td>0</td>\n",
       "    </tr>\n",
       "    <tr>\n",
       "      <th>32</th>\n",
       "      <td>10</td>\n",
       "      <td>2016-03-03</td>\n",
       "      <td>Browser #4</td>\n",
       "      <td>2</td>\n",
       "    </tr>\n",
       "    <tr>\n",
       "      <th>35</th>\n",
       "      <td>15</td>\n",
       "      <td>2016-03-03</td>\n",
       "      <td>Browser #14</td>\n",
       "      <td>1</td>\n",
       "    </tr>\n",
       "  </tbody>\n",
       "</table>\n",
       "</div>"
      ],
      "text/plain": [
       "    userID          ts      browser  all_cl\n",
       "17       6  2016-03-03   Browser #4       3\n",
       "27       8  2016-03-03   Browser #4       1\n",
       "31      10  2016-03-03   Browser #4       0\n",
       "32      10  2016-03-03   Browser #4       2\n",
       "35      15  2016-03-03  Browser #14       1"
      ]
     },
     "execution_count": 5,
     "metadata": {},
     "output_type": "execute_result"
    }
   ],
   "source": [
    "control.head()"
   ]
  },
  {
   "cell_type": "code",
   "execution_count": 6,
   "metadata": {},
   "outputs": [
    {
     "data": {
      "text/html": [
       "<div>\n",
       "<style scoped>\n",
       "    .dataframe tbody tr th:only-of-type {\n",
       "        vertical-align: middle;\n",
       "    }\n",
       "\n",
       "    .dataframe tbody tr th {\n",
       "        vertical-align: top;\n",
       "    }\n",
       "\n",
       "    .dataframe thead th {\n",
       "        text-align: right;\n",
       "    }\n",
       "</style>\n",
       "<table border=\"1\" class=\"dataframe\">\n",
       "  <thead>\n",
       "    <tr style=\"text-align: right;\">\n",
       "      <th></th>\n",
       "      <th>userID</th>\n",
       "      <th>ts</th>\n",
       "      <th>browser</th>\n",
       "      <th>all_cl</th>\n",
       "    </tr>\n",
       "  </thead>\n",
       "  <tbody>\n",
       "    <tr>\n",
       "      <th>0</th>\n",
       "      <td>1</td>\n",
       "      <td>2016-03-03</td>\n",
       "      <td>Browser #2</td>\n",
       "      <td>1</td>\n",
       "    </tr>\n",
       "    <tr>\n",
       "      <th>1</th>\n",
       "      <td>1</td>\n",
       "      <td>2016-03-03</td>\n",
       "      <td>Browser #2</td>\n",
       "      <td>5</td>\n",
       "    </tr>\n",
       "    <tr>\n",
       "      <th>2</th>\n",
       "      <td>1</td>\n",
       "      <td>2016-03-03</td>\n",
       "      <td>Browser #2</td>\n",
       "      <td>1</td>\n",
       "    </tr>\n",
       "    <tr>\n",
       "      <th>3</th>\n",
       "      <td>1</td>\n",
       "      <td>2016-03-03</td>\n",
       "      <td>Browser #2</td>\n",
       "      <td>1</td>\n",
       "    </tr>\n",
       "    <tr>\n",
       "      <th>4</th>\n",
       "      <td>1</td>\n",
       "      <td>2016-03-03</td>\n",
       "      <td>Browser #2</td>\n",
       "      <td>6</td>\n",
       "    </tr>\n",
       "  </tbody>\n",
       "</table>\n",
       "</div>"
      ],
      "text/plain": [
       "   userID          ts     browser  all_cl\n",
       "0       1  2016-03-03  Browser #2       1\n",
       "1       1  2016-03-03  Browser #2       5\n",
       "2       1  2016-03-03  Browser #2       1\n",
       "3       1  2016-03-03  Browser #2       1\n",
       "4       1  2016-03-03  Browser #2       6"
      ]
     },
     "execution_count": 6,
     "metadata": {},
     "output_type": "execute_result"
    }
   ],
   "source": [
    "exp.head()"
   ]
  },
  {
   "cell_type": "markdown",
   "metadata": {},
   "source": [
    "В следующей ячейке приведен код, который по датафрэйму считает необходимую метрику (сумму кликов) для каждого пользователя."
   ]
  },
  {
   "cell_type": "code",
   "execution_count": 7,
   "metadata": {},
   "outputs": [],
   "source": [
    "def clicks_sum_metric(data):\n",
    "    return data.groupby(by='userID').sum()"
   ]
  },
  {
   "cell_type": "code",
   "execution_count": 8,
   "metadata": {},
   "outputs": [],
   "source": [
    "control_values = clicks_sum_metric(control)\n",
    "exp_values = clicks_sum_metric(exp)"
   ]
  },
  {
   "cell_type": "code",
   "execution_count": 9,
   "metadata": {},
   "outputs": [],
   "source": [
    "def print_stats(data1, data2):\n",
    "    print('number of samples: {}, {}'.format(len(data1), len(data2)))\n",
    "    print('mean values: {}, {}'.format(data1.mean().values[0], data2.mean().values[0]))\n",
    "    print('variances: {}, {}'.format(data1.var().values[0], data2.var().values[0]))"
   ]
  },
  {
   "cell_type": "markdown",
   "metadata": {},
   "source": [
    "Нам хочется проверить, совпадают ли математические ожидания распределений контрольных значений и тестовых. При этом у нас есть значения случайных величин сэмплированных из каждой выборки. Давайте для начала на эти выборки посмотрим хотя бы для того, чтобы убедиться, что они примерно равны по основным параметрам (числу элементов в выборке, среднему и дисперсии). И посмотрим на графики имперических распределений, чтобы убедиться, что эти распределения не похожи на нормальные, то есть что мы не сможем использовать `ttest` для проверки."
   ]
  },
  {
   "cell_type": "code",
   "execution_count": 10,
   "metadata": {},
   "outputs": [
    {
     "name": "stdout",
     "output_type": "stream",
     "text": [
      "number of samples: 284392, 281450\n",
      "mean values: 11.287332273762974, 11.589351572215314\n",
      "variances: 411.6638348007596, 409.06767296029335\n"
     ]
    }
   ],
   "source": [
    "print_stats(control_values, exp_values)"
   ]
  },
  {
   "cell_type": "code",
   "execution_count": 11,
   "metadata": {},
   "outputs": [
    {
     "data": {
      "image/png": "[encoded data removed]",
      "text/plain": [
       "<matplotlib.figure.Figure at 0x10b864128>"
      ]
     },
     "metadata": {},
     "output_type": "display_data"
    }
   ],
   "source": [
    "fig, axs = plt.subplots(ncols=2, nrows=1, figsize=(17, 6))\n",
    "\n",
    "sns.distplot(control_values, ax=axs[0])\n",
    "axs[0].set_title('Metric values distribution, control')\n",
    "sns.distplot(exp_values, ax=axs[1])\n",
    "axs[1].set_title('Metric values distribution, exp')\n",
    "\n",
    "plt.show()"
   ]
  },
  {
   "cell_type": "code",
   "execution_count": 12,
   "metadata": {},
   "outputs": [
    {
     "data": {
      "text/plain": [
       "MannwhitneyuResult(statistic=38901259929.0, pvalue=4.3471471887604393e-75)"
      ]
     },
     "execution_count": 12,
     "metadata": {},
     "output_type": "execute_result"
    }
   ],
   "source": [
    "mannwhitneyu(control_values, exp_values)"
   ]
  },
  {
   "cell_type": "markdown",
   "metadata": {},
   "source": [
    "Посмотрели на уровень значимости и приходим к выводу, что тестируемая система отличается от контроля при использовании рассматриваемой метрики."
   ]
  },
  {
   "cell_type": "markdown",
   "metadata": {},
   "source": [
    "Теперь хочется ответить на вопрос, локализуется ли изменение кликов в каком-либо срезе?\n",
    "\n",
    "Для ответа на вопрос, какие вообще можно сделать срезы, давайте вспомним, какие есть данные. Итак, у нас есть:\n",
    "* пользователи (по которым мы группируем данные для метрики), они отнесены либо к эксперименту, либо к контролю\n",
    "* даты запросов (одна неделя, так что мы вполне удовлетворяем требованию, что и будние дни, и выходные рассмотрены)\n",
    "* количество кликов на запрос (данные, которые мы группируем для рассчета метрики)\n",
    "* и id браузера\n",
    "\n",
    "Таким образом, видно, что вариантов для среза немного -- их можно делать только по браузерам. Займемся этим, попутно не забывая проверять, что в срезах все еще учтены все дни недели как для контрольной группы, так и для тестовой."
   ]
  },
  {
   "cell_type": "code",
   "execution_count": 13,
   "metadata": {},
   "outputs": [
    {
     "name": "stdout",
     "output_type": "stream",
     "text": [
      "Browser #4\n",
      "number of samples: 78681, 78152\n",
      "mean values: 13.527980071427663, 13.550452963455829\n",
      "variances: 439.70244854936885, 451.0112098884393\n",
      "test result (p-value): 0.40760617658454984\n",
      "\n",
      "Browser #14\n",
      "number of samples: 44903, 44220\n",
      "mean values: 4.615036857225575, 6.661148801447309\n",
      "variances: 117.36518478286816, 152.26542105527844\n",
      "test result (p-value): 0.0\n",
      "\n",
      "Browser #2\n",
      "number of samples: 55793, 54944\n",
      "mean values: 10.143996558708082, 10.194179528246943\n",
      "variances: 356.9563222624373, 365.86788669372015\n",
      "test result (p-value): 0.0272438604197241\n",
      "\n",
      "Browser #20\n",
      "number of samples: 16998, 16931\n",
      "mean values: 13.289622308506884, 13.18362766522946\n",
      "variances: 441.0719061820192, 467.55239820372697\n",
      "test result (p-value): 0.45366656388735377\n",
      "\n",
      "Browser #22\n",
      "number of samples: 71825, 71080\n",
      "mean values: 12.249356073790462, 12.080275745638717\n",
      "variances: 454.9641628522271, 421.781847614523\n",
      "test result (p-value): 0.2574055152210032\n",
      "\n",
      "Browser #17\n",
      "number of samples: 16354, 16253\n",
      "mean values: 16.30989360401125, 16.383744539469635\n",
      "variances: 861.2703148789578, 813.7303461301776\n",
      "test result (p-value): 0.03740060143010802\n",
      "\n"
     ]
    }
   ],
   "source": [
    "for browser in control['browser'].unique():\n",
    "    print(browser)\n",
    "    control_slice = control[control['browser'] == browser]\n",
    "    exp_slice = exp[exp['browser'] == browser]\n",
    "    assert set(control_slice['ts'].unique()) == set(exp_slice['ts'].unique()), browser\n",
    "    control_slice = clicks_sum_metric(control_slice)\n",
    "    exp_slice = clicks_sum_metric(exp_slice)\n",
    "    pvalue = mannwhitneyu(control_slice, exp_slice)[1]\n",
    "    print_stats(control_slice, exp_slice)\n",
    "    print('test result (p-value): {}'.format(pvalue))\n",
    "    print()"
   ]
  },
  {
   "cell_type": "markdown",
   "metadata": {},
   "source": [
    "Видно, что `p-value` на всех браузерах, кроме `#14`, не опускается ниже 0.01 (можно, конечно, рассматривать уровень значимости равный 0.05, тогда это будут еще и браузеры `#2` и `#17`, но если смотреть на отличия дисперсии и матожидания в сравниваемых выборках, в глаза бросается только `#14`). Но ответ на вопрос о локализации изменений кликов в срезах все равно остается положительным."
   ]
  },
  {
   "cell_type": "markdown",
   "metadata": {},
   "source": [
    "Осталось подумать только о том, как полученные числа интерпретировать. Мы видим, что эффект определенно был как минимум в одном из браузеров (среднее количество кликов в тестовой выборке больше), но сказать, положительный этот эффект или отрицательный, то есть как коррелирует счастье пользователя и количество совершаемых им кликов, просто так нельзя.\n",
    "\n",
    "Во-первых, была выбрана неоднозначная метрика -- увеличение количества кликов может говорить как о том, что пользователю теперь нужно совершать больше действий до того, как он получит удовлетворительный результат, так и о том, что пользователю в целом больше стали нравиться результаты и он хочет увидеть больше релевантной информации.\n",
    "\n",
    "Во-вторых, предложенный датасет не отражает, какие именно это были клики. Это могли быть клики переходов на другие сервисы из колдунщиков или отсутствие кликов из-за информативных сниппетов прямо на странице результатов поиска. Вариантов можно придумать много, но вывод один: для того, чтобы предполагать, положительный ли эффектом имело изменение, или нет -- данных мало."
   ]
  }
 ],
 "metadata": {
  "kernelspec": {
   "display_name": "Python 3",
   "language": "python",
   "name": "python3"
  },
  "language_info": {
   "codemirror_mode": {
    "name": "ipython",
    "version": 3
   },
   "file_extension": ".py",
   "mimetype": "text/x-python",
   "name": "python",
   "nbconvert_exporter": "python",
   "pygments_lexer": "ipython3",
   "version": "3.6.3"
  }
 },
 "nbformat": 4,
 "nbformat_minor": 2
}
