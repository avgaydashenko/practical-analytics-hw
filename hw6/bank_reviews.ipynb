{
 "cells": [
  {
   "cell_type": "markdown",
   "metadata": {},
   "source": [
    "# Формализация задачи"
   ]
  },
  {
   "cell_type": "markdown",
   "metadata": {},
   "source": [
    "В целом, формализация задачи зависит от имеющегося датасета. Если датасет размечен бинарно или на категории (хороший отзыв, плохой, нейтральный), то скорее всего, это будет задача классификации. Если датасет размечен числами (например, по шкале от 0 до 10), то это задача регрессии. Однако, и задачу классификации можно превратить в регрессию (например, предсказывать число от 0 до 1 или отобразить плохой-нейтральный-хороший в 0-1-2), и задачу регрессии в классификацию. Также, если датасет частично размечен или не размечен вообще, то это будет задача кластеризации с последующим упорядочиванием кластеров каким-либо образом."
   ]
  },
  {
   "cell_type": "markdown",
   "metadata": {},
   "source": [
    "В моем случае, отзывы были собраны с сайта banki.ru, причем каждый отзыв имеет оценку от 1 до 5 включительно. Отзывы на русском языке, более подробные характеристики будут описаны ниже.\n",
    "\n",
    "Я буду решать эту задачу как задачу классификации, а точность проверять по полному совпадению классов. Но понятно, что в этом случае при ground truth = 5 ответы 1 и 4 будут одинаково неверными. Поэтому если придумать метрику, которая бы это учитывала, то точность была бы выше. Задачу регрессии решать не очень хочется потому что в этом случае придется придумывать какой-то baseline, с которым надо будет сравнивать ошибку."
   ]
  },
  {
   "cell_type": "markdown",
   "metadata": {},
   "source": [
    "Преобразование данных: каждый отзыв будет предобрабатываться с помощью библиотеки `nltk`, это включает в себя:\n",
    "* приведение к нижнему регистру\n",
    "* удаление стоп-слов\n",
    "* стемминг\n",
    "\n",
    "Векторизация: я беру 100 самых популярных слов и каждый отзыв кодируется в бинарную последовательность длины 100, где позиция `i` это индикатор того, что `i`-тое популярное слово содержится в отзыве.\n",
    "\n",
    "Классификатор: я пользуюсь наивным байесовским классификатором (не учитывает отношения между словами) из `nltk`."
   ]
  },
  {
   "cell_type": "markdown",
   "metadata": {},
   "source": [
    "# Сбор данных"
   ]
  },
  {
   "cell_type": "code",
   "execution_count": 1,
   "metadata": {},
   "outputs": [],
   "source": [
    "import io\n",
    "import logging\n",
    "import json\n",
    "import pickle\n",
    "import numpy as np\n",
    "import seaborn as sns\n",
    "import nltk\n",
    "import string\n",
    "\n",
    "%matplotlib inline\n",
    "\n",
    "from tqdm import tqdm\n",
    "from grab import Grab\n",
    "from grab.spider import Spider, Task\n",
    "from sklearn.model_selection import StratifiedShuffleSplit\n",
    "\n",
    "from vectorizer import Vectorizer\n",
    "\n",
    "# logging.basicConfig(level=logging.DEBUG)"
   ]
  },
  {
   "cell_type": "code",
   "execution_count": 2,
   "metadata": {},
   "outputs": [],
   "source": [
    "NUM_PAGES = 20  # для каждого банка рассматриваются первые 20 страниц отзывов (или меньше, если отзывов меньше)\n",
    "NUM_THREADS = 2\n",
    "\n",
    "class BankiSpider(Spider):  # класс-кроулер\n",
    "    def __init__(self, **kwargs):\n",
    "        self.ratings = []\n",
    "        super(BankiSpider, self).__init__(**kwargs)\n",
    "\n",
    "    def task_generator(self):\n",
    "        grab = Grab()\n",
    "        grab.go('http://www.banki.ru/banks/?order=fin_rating')\n",
    "\n",
    "        links = grab.doc('//a[contains(@href, \"responses/bank\")]/@href').text_list()\n",
    "        urls = map(lambda s: 'http://www.banki.ru' + s, links)\n",
    "        \n",
    "        for url in urls:\n",
    "            yield Task('extract', url=url)\n",
    "            for page in range(2, NUM_PAGES + 1):\n",
    "                yield Task('extract', url=url+'?page={}'.format(page))\n",
    "\n",
    "    def task_extract(self, grab, task):\n",
    "        for score, text in zip(grab.doc('//div[contains(@class, \"responses__item__rating\")]').text_list(),\n",
    "                               grab.doc('//div[contains(@class, \"markup-inside-small\")]').text_list()):\n",
    "            if score.find(u'ОЦЕНКА: ') != -1:\n",
    "                self.ratings.append({\n",
    "                    'score': score[8],\n",
    "                    'text': text,\n",
    "                })"
   ]
  },
  {
   "cell_type": "code",
   "execution_count": 3,
   "metadata": {},
   "outputs": [],
   "source": [
    "bot = BankiSpider(thread_number=NUM_THREADS)\n",
    "bot.run()\n",
    "data = bot.ratings\n",
    "with open('data.pickle', 'wb') as f:\n",
    "    pickle.dump(data, f)"
   ]
  },
  {
   "cell_type": "code",
   "execution_count": null,
   "metadata": {},
   "outputs": [],
   "source": [
    "# with open('data.pickle', 'rb') as f:\n",
    "#     data = pickle.load(f)"
   ]
  },
  {
   "cell_type": "markdown",
   "metadata": {},
   "source": [
    "Общее количество собранных отзывов:"
   ]
  },
  {
   "cell_type": "code",
   "execution_count": 4,
   "metadata": {},
   "outputs": [
    {
     "data": {
      "text/plain": [
       "13175"
      ]
     },
     "execution_count": 4,
     "metadata": {},
     "output_type": "execute_result"
    }
   ],
   "source": [
    "len(data)"
   ]
  },
  {
   "cell_type": "markdown",
   "metadata": {},
   "source": [
    "Пример отзыва и соответствующей оценки:"
   ]
  },
  {
   "cell_type": "code",
   "execution_count": 5,
   "metadata": {},
   "outputs": [
    {
     "data": {
      "text/plain": [
       "{'score': '1',\n",
       " 'text': 'Хочу поделиться своей проблемой. В прошлом месяце подал заявление на снижение процентной ставки поипотеке (первичное жилье) и тут как лавина посыпались неприятности со стороны\"Сбербанка\" сначала пришла СМС с просьбой предоставить документы подтверждающиецелевое использование кредитных средств и это при том, что залог на этунедвижимость был оформлен 2.5 года назад. Позвонил в контакт-центр мне не чеговразумительно объяснить не смогли, а после того пришло голосовое сообщение вкотором мне еще и угрожали штрафами. Обратился отделение в котором мнепредварительно попинав из кабинета в кабинет, опять не чего не объяснили,только посоветовали написать заявление с просьбой разъяснить, что от меняхотят. Потом узнав что я обращался в субботу знакомые подсказали, что в этовремя дежурят подменные некомпетентные сотрудники и нужно обратиться в буднийдень. Я повторно пришел в отделение и наконец мне другой сотрудникразъяснил, что потерялись в базе копии моих документов в том числе и самкредитный договор и что пока они его запросят из архива мне может быть начисленштраф и что она не чего не может поделать кроме как извиниться. Делать нечегопришлось бежать за документами и заново их представлять. Не прошло и пару дней, какновая беда, заглядываю в СБ ОНЛАЙН, мне начислена неустойка, иду снова в отделение и мне та же барышня поясняет, что неустойка начисленаза не предоставление в БАНК копии полиса страхования недвижимости. Я говорюсотруднице , что страховку я продлял ч/з СБ ОНЛАЙН в организации \"СбербанкСтрахование\" и информация должна передаваться им автоматически без моегоучастия, сотрудница ответила. что звоните в службу поддержки \"Сбербанкстрахование\". Я связался с ними они мне на эл. почту выслали скан.договора и по обещали, что информация отобразится ч/з пару дней в\"Сбербанке. Я не стал ждать и понес им скан. полиса. И в очереднойраз обратился в сопровождение ипотеки, но сотрудник отказался обслуживать менямотивируя тем, что она не занимается страховками и отправила меня взять талон\"решение проблемы\". Дождавшись очереди мне наконец принялкомпетентный сотрудник. Приняла все документы и помогла написать заявление наснятие неустойки. Но вот беда срок рассмотрения неустойки 26.12, а списаниеочередного платежа 25.12 и велик риск, что все таки неправомерно спишут и потомпоследует долгая и мучительна процедура возврата средств в чем уже был горькийопыт (в 2015 г. так же неправомерно начисляли неустойку за несвоевременноепредоставление документов на имущество, потом выяснилось что оформили договор,как по вторичному жилью, а у меня первичное, потом возвращал деньги 2 месяца). Складывается впечатление, что Банк специально создаетпроблемы, что бы не одобрять снижение или снизить немного , так как якобынеблагонадежный заемщик.Теперь сижу и гадаю, что спишут первее неустойку или основнойплатеж, будет ли очередная головная боль по возврату денежных средств, а можетеще и откажут в снижении ставки. P.S. С каждым годом все больше возникает жгучее желание рефинансировать ипотеку в другом банке.'}"
      ]
     },
     "execution_count": 5,
     "metadata": {},
     "output_type": "execute_result"
    }
   ],
   "source": [
    "data[0]"
   ]
  },
  {
   "cell_type": "code",
   "execution_count": 6,
   "metadata": {},
   "outputs": [],
   "source": [
    "scores = np.array([d['score'] for d in data]).astype(int)"
   ]
  },
  {
   "cell_type": "markdown",
   "metadata": {},
   "source": [
    "Распределение оценок в собранных отзывах:"
   ]
  },
  {
   "cell_type": "code",
   "execution_count": 7,
   "metadata": {},
   "outputs": [
    {
     "data": {
      "text/plain": [
       "(array([1, 2, 3, 4, 5]), array([6835, 1579,  643,  438, 3680]))"
      ]
     },
     "execution_count": 7,
     "metadata": {},
     "output_type": "execute_result"
    }
   ],
   "source": [
    "np.unique(scores, return_counts=True)"
   ]
  },
  {
   "cell_type": "markdown",
   "metadata": {},
   "source": [
    "Средняя оценка по всем отзывам:"
   ]
  },
  {
   "cell_type": "code",
   "execution_count": 8,
   "metadata": {},
   "outputs": [
    {
     "data": {
      "text/plain": [
       "2.4344592030360532"
      ]
     },
     "execution_count": 8,
     "metadata": {},
     "output_type": "execute_result"
    }
   ],
   "source": [
    "np.mean(scores)"
   ]
  },
  {
   "cell_type": "markdown",
   "metadata": {},
   "source": [
    "График распределения оценок:"
   ]
  },
  {
   "cell_type": "code",
   "execution_count": 9,
   "metadata": {},
   "outputs": [
    {
     "data": {
      "text/plain": [
       "<matplotlib.axes._subplots.AxesSubplot at 0x1a1ab3f710>"
      ]
     },
     "execution_count": 9,
     "metadata": {},
     "output_type": "execute_result"
    },
    {
     "data": {
      "image/png": "[encoded data removed]",
      "text/plain": [
       "<matplotlib.figure.Figure at 0x1a1aa4ef98>"
      ]
     },
     "metadata": {},
     "output_type": "display_data"
    }
   ],
   "source": [
    "sns.distplot(scores)"
   ]
  },
  {
   "cell_type": "code",
   "execution_count": 11,
   "metadata": {},
   "outputs": [],
   "source": [
    "vectorizer = Vectorizer()"
   ]
  },
  {
   "cell_type": "code",
   "execution_count": 12,
   "metadata": {},
   "outputs": [
    {
     "name": "stderr",
     "output_type": "stream",
     "text": [
      "100%|██████████| 13175/13175 [13:52<00:00, 15.82it/s]\n"
     ]
    }
   ],
   "source": [
    "terms = {}\n",
    "\n",
    "for i in tqdm(range(len(data))):\n",
    "    # препроцессинг текста, исходный код в vectorizer.py\n",
    "    data[i]['text'] = vectorizer.preprocess_text(data[i]['text'])\n",
    "    \n",
    "    # считаем популярность слова (с учетом количества вхождений в каждый отзыв)\n",
    "    for w in data[i]['text']:\n",
    "        if w in terms:\n",
    "            terms[w] += 1\n",
    "        else:\n",
    "            terms[w] = 1\n",
    "\n",
    "with open('processed_data.pickle', 'wb') as f:\n",
    "    pickle.dump(data, f)"
   ]
  },
  {
   "cell_type": "code",
   "execution_count": 13,
   "metadata": {},
   "outputs": [],
   "source": [
    "# берем 100 самых популярных слов\n",
    "terms = np.array(list(terms.items()))\n",
    "ind = np.argsort(-terms[:, 1].astype(int))\n",
    "terms = terms[ind, 0][:100]\n",
    "\n",
    "vectorizer.set_terms(terms)"
   ]
  },
  {
   "cell_type": "markdown",
   "metadata": {},
   "source": [
    "Топ-10 наиболее популярных слов:"
   ]
  },
  {
   "cell_type": "code",
   "execution_count": 14,
   "metadata": {},
   "outputs": [
    {
     "data": {
      "text/plain": [
       "array(['банк', 'карт', 'эт', 'сотрудник', 'котор', 'мо', 'клиент', 'счет',\n",
       "       'отделен', 'деньг'],\n",
       "      dtype='<U39')"
      ]
     },
     "execution_count": 14,
     "metadata": {},
     "output_type": "execute_result"
    }
   ],
   "source": [
    "terms[:10]"
   ]
  },
  {
   "cell_type": "code",
   "execution_count": null,
   "metadata": {},
   "outputs": [],
   "source": [
    "# with open('processed_data.pickle', 'rb') as f:\n",
    "#     data = pickle.load(f)"
   ]
  },
  {
   "cell_type": "markdown",
   "metadata": {},
   "source": [
    "Пример отзыва после обработки:"
   ]
  },
  {
   "cell_type": "code",
   "execution_count": 15,
   "metadata": {},
   "outputs": [
    {
     "name": "stdout",
     "output_type": "stream",
     "text": [
      "{'score': '1', 'text': ['хоч', 'подел', 'сво', 'проблем', 'прошл', 'месяц', 'пода', 'заявлен', 'снижен', 'процентн', 'ставк', 'поипотек', 'первичн', 'жил', 'лавин', 'посыпа', 'неприятн', 'сторон', 'сбербанк', 'снача', 'пришл', 'смс', 'просьб', 'предостав', 'документ', 'подтверждающиецелев', 'использован', 'кредитн', 'средств', 'эт', 'залог', 'этунедвижим', 'оформл', 'год', 'назад', 'позвон', 'чеговразумительн', 'объясн', 'смогл', 'пришл', 'голосов', 'сообщен', 'вкотор', 'угрожа', 'штраф', 'обрат', 'отделен', 'котор', 'мнепредварительн', 'попина', 'кабинет', 'кабинет', 'объясн', 'посоветова', 'написа', 'заявлен', 'просьб', 'разъясн', 'меняхот', 'узна', 'обраща', 'суббот', 'знаком', 'подсказа', 'этоврем', 'дежур', 'подмен', 'некомпетентн', 'сотрудник', 'нужн', 'обрат', 'буднийден', 'повторн', 'пришел', 'отделен', 'сотрудникразъясн', 'потеря', 'баз', 'коп', 'мо', 'документ', 'числ', 'самкредитн', 'договор', 'пок', 'запрос', 'архив', 'начисленштраф', 'подела', 'кром', 'извин', 'дела', 'нечегопришл', 'бежа', 'документ', 'занов', 'представля', 'прошл', 'пар', 'дне', 'какнов', 'бед', 'заглядыва', 'сб', 'онлайн', 'начисл', 'неустойк', 'ид', 'снов', 'отделен', 'та', 'барышн', 'поясня', 'неустойк', 'начисленаз', 'предоставлен', 'банк', 'коп', 'полис', 'страхован', 'недвижим', 'говорюсотрудниц', 'страховк', 'продля', 'сб', 'онлайн', 'организац', 'сбербанкстрахован', 'информац', 'должн', 'передава', 'автоматическ', 'моегоучаст', 'сотрудниц', 'ответ', 'звон', 'служб', 'поддержк', 'сбербанкстрахован', 'связа', 'ним', 'эл', 'почт', 'высла', 'обеща', 'информац', 'отобраз', 'пар', 'дне', 'сбербанк', 'стал', 'ждат', 'понес', 'скан', 'полис', 'очереднойраз', 'обрат', 'сопровожден', 'ипотек', 'сотрудник', 'отказа', 'обслужива', 'менямотивиру', 'занима', 'страховк', 'отправ', 'взят', 'талон', 'решен', 'проблем', 'дожда', 'очеред', 'принялкомпетентн', 'сотрудник', 'приня', 'документ', 'помогл', 'написа', 'заявлен', 'наснят', 'неустойк', 'бед', 'срок', 'рассмотрен', 'неустойк', 'списаниеочередн', 'платеж', 'велик', 'риск', 'так', 'неправомерн', 'спишут', 'потомпослед', 'долг', 'мучительн', 'процедур', 'возврат', 'средств', 'горькийоп', 'неправомерн', 'начисля', 'неустойк', 'несвоевременноепредоставлен', 'документ', 'имуществ', 'выясн', 'оформ', 'договор', 'вторичн', 'жил', 'первичн', 'возвраща', 'деньг', 'месяц', 'складыва', 'впечатлен', 'банк', 'специальн', 'создаетпроблем', 'одобря', 'снижен', 'сниз', 'немн', 'якобынеблагонадежн', 'сиж', 'гада', 'спишут', 'перв', 'неустойк', 'основнойплатеж', 'очередн', 'головн', 'бол', 'возврат', 'денежн', 'средств', 'можетещ', 'откажут', 'снижен', 'ставк', 'кажд', 'год', 'возника', 'жгуч', 'желан', 'рефинансирова', 'ипотек', 'друг', 'банк']}\n"
     ]
    }
   ],
   "source": [
    "print(data[0])"
   ]
  },
  {
   "cell_type": "markdown",
   "metadata": {},
   "source": [
    "Минимальная, средняя и максимальная длины отзывов после удаления стоп-слов:"
   ]
  },
  {
   "cell_type": "code",
   "execution_count": 16,
   "metadata": {},
   "outputs": [
    {
     "data": {
      "text/plain": [
       "(5, 116.49017077798861, 2334)"
      ]
     },
     "execution_count": 16,
     "metadata": {},
     "output_type": "execute_result"
    }
   ],
   "source": [
    "lengths = np.array([len(d['text']) for d in data])\n",
    "lengths.min(), lengths.mean(), lengths.max()"
   ]
  },
  {
   "cell_type": "markdown",
   "metadata": {},
   "source": [
    "Преобразование отзыва в вектор фич:"
   ]
  },
  {
   "cell_type": "code",
   "execution_count": 17,
   "metadata": {},
   "outputs": [],
   "source": [
    "features = [(vectorizer.get_features(d['text']), int(d['score'])) for d in data]\n",
    "\n",
    "with open('features.pickle', 'wb') as f:\n",
    "    pickle.dump(features, f)"
   ]
  },
  {
   "cell_type": "code",
   "execution_count": null,
   "metadata": {},
   "outputs": [],
   "source": [
    "with open('features.pickle', 'rb') as f:\n",
    "    features = pickle.load(f)"
   ]
  },
  {
   "cell_type": "markdown",
   "metadata": {},
   "source": [
    "Разделение датасета на `train` и `test` с сохранением распределений по классам:"
   ]
  },
  {
   "cell_type": "code",
   "execution_count": 18,
   "metadata": {},
   "outputs": [],
   "source": [
    "sss = StratifiedShuffleSplit(n_splits=1, test_size=0.2, random_state=0)\n",
    "\n",
    "for train_index, test_index in sss.split(X=[f[0] for f in features], y=[f[1] for f in features]):\n",
    "    train = [features[i] for i in train_index]\n",
    "    test = [features[i] for i in test_index]"
   ]
  },
  {
   "cell_type": "code",
   "execution_count": 19,
   "metadata": {},
   "outputs": [
    {
     "data": {
      "text/plain": [
       "<matplotlib.axes._subplots.AxesSubplot at 0x1a369d28d0>"
      ]
     },
     "execution_count": 19,
     "metadata": {},
     "output_type": "execute_result"
    },
    {
     "data": {
      "image/png": "[encoded data removed]",
      "text/plain": [
       "<matplotlib.figure.Figure at 0x1a369d22b0>"
      ]
     },
     "metadata": {},
     "output_type": "display_data"
    }
   ],
   "source": [
    "sns.distplot([t[1] for t in test])"
   ]
  },
  {
   "cell_type": "code",
   "execution_count": 20,
   "metadata": {},
   "outputs": [
    {
     "data": {
      "text/plain": [
       "<matplotlib.axes._subplots.AxesSubplot at 0x1a369b0da0>"
      ]
     },
     "execution_count": 20,
     "metadata": {},
     "output_type": "execute_result"
    },
    {
     "data": {
      "image/png": "[encoded data removed]",
      "text/plain": [
       "<matplotlib.figure.Figure at 0x1a285eab70>"
      ]
     },
     "metadata": {},
     "output_type": "display_data"
    }
   ],
   "source": [
    "sns.distplot([t[1] for t in train])"
   ]
  },
  {
   "cell_type": "markdown",
   "metadata": {},
   "source": [
    "# Построение модели"
   ]
  },
  {
   "cell_type": "code",
   "execution_count": 21,
   "metadata": {},
   "outputs": [],
   "source": [
    "classifier = nltk.NaiveBayesClassifier.train(train)"
   ]
  },
  {
   "cell_type": "markdown",
   "metadata": {},
   "source": [
    "Полученная точность классификации:"
   ]
  },
  {
   "cell_type": "code",
   "execution_count": 22,
   "metadata": {},
   "outputs": [
    {
     "data": {
      "text/plain": [
       "0.6197343453510437"
      ]
     },
     "execution_count": 22,
     "metadata": {},
     "output_type": "execute_result"
    }
   ],
   "source": [
    "nltk.classify.accuracy(classifier, test)"
   ]
  },
  {
   "cell_type": "markdown",
   "metadata": {},
   "source": [
    "Примеры наиболее значимых фич:"
   ]
  },
  {
   "cell_type": "code",
   "execution_count": 23,
   "metadata": {},
   "outputs": [
    {
     "name": "stdout",
     "output_type": "stream",
     "text": [
      "Most Informative Features\n",
      "                w_спасиб = True                5 : 1      =      8.5 : 1.0\n",
      "                   w_поч = True                2 : 5      =      7.8 : 1.0\n",
      "                 w_горяч = True                1 : 5      =      5.8 : 1.0\n",
      "                   w_лин = True                1 : 5      =      5.7 : 1.0\n",
      "                 w_номер = True                1 : 5      =      5.2 : 1.0\n"
     ]
    }
   ],
   "source": [
    "classifier.show_most_informative_features(5)"
   ]
  },
  {
   "cell_type": "markdown",
   "metadata": {},
   "source": [
    "Примеры классификации (они же на скриншотах демки):"
   ]
  },
  {
   "cell_type": "code",
   "execution_count": 24,
   "metadata": {},
   "outputs": [
    {
     "data": {
      "text/plain": [
       "5"
      ]
     },
     "execution_count": 24,
     "metadata": {},
     "output_type": "execute_result"
    }
   ],
   "source": [
    "classifier.classify(vectorizer.get_features('''\n",
    "    сотрудники доброжелательны, хочу поблагодарить\n",
    "'''))"
   ]
  },
  {
   "cell_type": "code",
   "execution_count": 25,
   "metadata": {},
   "outputs": [
    {
     "data": {
      "text/plain": [
       "1"
      ]
     },
     "execution_count": 25,
     "metadata": {},
     "output_type": "execute_result"
    }
   ],
   "source": [
    "classifier.classify(vectorizer.get_features('''\n",
    "    почему так плохо? номер горячей линии все время занят, на сообщения и смс не отвечают\n",
    "'''))"
   ]
  },
  {
   "cell_type": "code",
   "execution_count": 26,
   "metadata": {},
   "outputs": [],
   "source": [
    "with open('classifier.pickle', 'wb') as f:\n",
    "    pickle.dump(classifier, f)"
   ]
  },
  {
   "cell_type": "code",
   "execution_count": 27,
   "metadata": {},
   "outputs": [],
   "source": [
    "with open('vectorizer.pickle', 'wb') as f:\n",
    "    pickle.dump(vectorizer, f)"
   ]
  },
  {
   "cell_type": "code",
   "execution_count": null,
   "metadata": {},
   "outputs": [],
   "source": []
  }
 ],
 "metadata": {
  "kernelspec": {
   "display_name": "Python 3",
   "language": "python",
   "name": "python3"
  },
  "language_info": {
   "codemirror_mode": {
    "name": "ipython",
    "version": 3
   },
   "file_extension": ".py",
   "mimetype": "text/x-python",
   "name": "python",
   "nbconvert_exporter": "python",
   "pygments_lexer": "ipython3",
   "version": "3.6.3"
  }
 },
 "nbformat": 4,
 "nbformat_minor": 2
}
