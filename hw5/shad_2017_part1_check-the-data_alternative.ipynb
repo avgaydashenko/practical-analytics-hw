{
 "cells": [
  {
   "cell_type": "code",
   "execution_count": 1,
   "metadata": {},
   "outputs": [],
   "source": [
    "import matplotlib\n",
    "import numpy as np\n",
    "import matplotlib.pyplot as plt\n",
    "import pandas as pd\n",
    "import seaborn\n",
    "import scipy\n",
    "import codecs\n",
    "\n",
    "%matplotlib inline  \n",
    "DEFAULT_DPI = 600\n",
    "matplotlib.rcParams['figure.figsize'] = (15, 8)\n",
    "\n",
    "from sklearn import linear_model\n",
    "import numpy.ma as ma"
   ]
  },
  {
   "cell_type": "markdown",
   "metadata": {},
   "source": [
    "## Input some data and run correlations"
   ]
  },
  {
   "cell_type": "code",
   "execution_count": 2,
   "metadata": {},
   "outputs": [],
   "source": [
    "columns_to_drop = []"
   ]
  },
  {
   "cell_type": "code",
   "execution_count": 3,
   "metadata": {},
   "outputs": [],
   "source": [
    "data = pd.read_csv('dataset_16', sep='\\t', header=None)"
   ]
  },
  {
   "cell_type": "code",
   "execution_count": 4,
   "metadata": {},
   "outputs": [
    {
     "data": {
      "text/html": [
       "<div>\n",
       "<style scoped>\n",
       "    .dataframe tbody tr th:only-of-type {\n",
       "        vertical-align: middle;\n",
       "    }\n",
       "\n",
       "    .dataframe tbody tr th {\n",
       "        vertical-align: top;\n",
       "    }\n",
       "\n",
       "    .dataframe thead th {\n",
       "        text-align: right;\n",
       "    }\n",
       "</style>\n",
       "<table border=\"1\" class=\"dataframe\">\n",
       "  <thead>\n",
       "    <tr style=\"text-align: right;\">\n",
       "      <th></th>\n",
       "      <th>0</th>\n",
       "      <th>1</th>\n",
       "      <th>2</th>\n",
       "      <th>3</th>\n",
       "      <th>4</th>\n",
       "      <th>5</th>\n",
       "      <th>6</th>\n",
       "      <th>7</th>\n",
       "      <th>8</th>\n",
       "      <th>9</th>\n",
       "      <th>10</th>\n",
       "      <th>11</th>\n",
       "      <th>12</th>\n",
       "      <th>13</th>\n",
       "      <th>14</th>\n",
       "      <th>15</th>\n",
       "      <th>16</th>\n",
       "      <th>17</th>\n",
       "    </tr>\n",
       "  </thead>\n",
       "  <tbody>\n",
       "    <tr>\n",
       "      <th>0</th>\n",
       "      <td>1</td>\n",
       "      <td>1</td>\n",
       "      <td>10</td>\n",
       "      <td>43</td>\n",
       "      <td>5825543</td>\n",
       "      <td>69</td>\n",
       "      <td>60</td>\n",
       "      <td>0</td>\n",
       "      <td>1407606829</td>\n",
       "      <td>0</td>\n",
       "      <td>-24</td>\n",
       "      <td>вс</td>\n",
       "      <td>0</td>\n",
       "      <td>1414776005</td>\n",
       "      <td>-</td>\n",
       "      <td>424668</td>\n",
       "      <td>-</td>\n",
       "      <td>3</td>\n",
       "    </tr>\n",
       "    <tr>\n",
       "      <th>1</th>\n",
       "      <td>2</td>\n",
       "      <td>1</td>\n",
       "      <td>334</td>\n",
       "      <td>129</td>\n",
       "      <td>31</td>\n",
       "      <td>112227</td>\n",
       "      <td>2</td>\n",
       "      <td>1</td>\n",
       "      <td>1415699671</td>\n",
       "      <td>0</td>\n",
       "      <td>-29</td>\n",
       "      <td>пн</td>\n",
       "      <td>0</td>\n",
       "      <td>1386786500</td>\n",
       "      <td>86401</td>\n",
       "      <td>1274004</td>\n",
       "      <td>1415714518</td>\n",
       "      <td>21</td>\n",
       "    </tr>\n",
       "    <tr>\n",
       "      <th>2</th>\n",
       "      <td>2</td>\n",
       "      <td>1</td>\n",
       "      <td>1</td>\n",
       "      <td>5</td>\n",
       "      <td>5825543</td>\n",
       "      <td>315</td>\n",
       "      <td>25219</td>\n",
       "      <td>1</td>\n",
       "      <td>1415428541</td>\n",
       "      <td>0</td>\n",
       "      <td>-26</td>\n",
       "      <td>пн</td>\n",
       "      <td>0</td>\n",
       "      <td>1415612168</td>\n",
       "      <td>-</td>\n",
       "      <td>49380</td>\n",
       "      <td>-</td>\n",
       "      <td>16</td>\n",
       "    </tr>\n",
       "    <tr>\n",
       "      <th>3</th>\n",
       "      <td>1</td>\n",
       "      <td>1</td>\n",
       "      <td>422</td>\n",
       "      <td>2</td>\n",
       "      <td>5825543</td>\n",
       "      <td>392</td>\n",
       "      <td>44</td>\n",
       "      <td>1</td>\n",
       "      <td>1411245251</td>\n",
       "      <td>0</td>\n",
       "      <td>22</td>\n",
       "      <td>вс</td>\n",
       "      <td>0</td>\n",
       "      <td>1379156172</td>\n",
       "      <td>-</td>\n",
       "      <td>19752</td>\n",
       "      <td>-</td>\n",
       "      <td>20</td>\n",
       "    </tr>\n",
       "    <tr>\n",
       "      <th>4</th>\n",
       "      <td>1</td>\n",
       "      <td>1</td>\n",
       "      <td>0</td>\n",
       "      <td>580</td>\n",
       "      <td>7699829</td>\n",
       "      <td>500</td>\n",
       "      <td>161068</td>\n",
       "      <td>1</td>\n",
       "      <td>1354122839</td>\n",
       "      <td>0</td>\n",
       "      <td>26</td>\n",
       "      <td>вс</td>\n",
       "      <td>0</td>\n",
       "      <td>1415715882</td>\n",
       "      <td>3</td>\n",
       "      <td>5728080</td>\n",
       "      <td>1415715885</td>\n",
       "      <td>18</td>\n",
       "    </tr>\n",
       "  </tbody>\n",
       "</table>\n",
       "</div>"
      ],
      "text/plain": [
       "   0   1    2    3        4       5       6   7           8   9   10  11  12  \\\n",
       "0   1   1   10   43  5825543      69      60   0  1407606829   0 -24  вс   0   \n",
       "1   2   1  334  129       31  112227       2   1  1415699671   0 -29  пн   0   \n",
       "2   2   1    1    5  5825543     315   25219   1  1415428541   0 -26  пн   0   \n",
       "3   1   1  422    2  5825543     392      44   1  1411245251   0  22  вс   0   \n",
       "4   1   1    0  580  7699829     500  161068   1  1354122839   0  26  вс   0   \n",
       "\n",
       "           13     14       15          16  17  \n",
       "0  1414776005      -   424668           -   3  \n",
       "1  1386786500  86401  1274004  1415714518  21  \n",
       "2  1415612168      -    49380           -  16  \n",
       "3  1379156172      -    19752           -  20  \n",
       "4  1415715882      3  5728080  1415715885  18  "
      ]
     },
     "execution_count": 4,
     "metadata": {},
     "output_type": "execute_result"
    }
   ],
   "source": [
    "data.head()"
   ]
  },
  {
   "cell_type": "code",
   "execution_count": 5,
   "metadata": {},
   "outputs": [],
   "source": [
    "val_to_num = {'пн':1, 'вт':2, 'ср':3, 'чт':4, 'пт':5, 'сб':6, 'вс':7, '-':np.nan, '':np.nan}\n",
    "\n",
    "ncols = 18\n",
    "for i in range(ncols):\n",
    "    data[i] = [val_to_num[s] if s in val_to_num.keys() else float(s) for s in data[i]]"
   ]
  },
  {
   "cell_type": "code",
   "execution_count": 6,
   "metadata": {},
   "outputs": [
    {
     "data": {
      "text/html": [
       "<div>\n",
       "<style scoped>\n",
       "    .dataframe tbody tr th:only-of-type {\n",
       "        vertical-align: middle;\n",
       "    }\n",
       "\n",
       "    .dataframe tbody tr th {\n",
       "        vertical-align: top;\n",
       "    }\n",
       "\n",
       "    .dataframe thead th {\n",
       "        text-align: right;\n",
       "    }\n",
       "</style>\n",
       "<table border=\"1\" class=\"dataframe\">\n",
       "  <thead>\n",
       "    <tr style=\"text-align: right;\">\n",
       "      <th></th>\n",
       "      <th>0</th>\n",
       "      <th>1</th>\n",
       "      <th>2</th>\n",
       "      <th>3</th>\n",
       "      <th>4</th>\n",
       "      <th>5</th>\n",
       "      <th>6</th>\n",
       "      <th>7</th>\n",
       "      <th>8</th>\n",
       "      <th>9</th>\n",
       "      <th>10</th>\n",
       "      <th>11</th>\n",
       "      <th>12</th>\n",
       "      <th>13</th>\n",
       "      <th>14</th>\n",
       "      <th>15</th>\n",
       "      <th>16</th>\n",
       "      <th>17</th>\n",
       "    </tr>\n",
       "  </thead>\n",
       "  <tbody>\n",
       "    <tr>\n",
       "      <th>0</th>\n",
       "      <td>1.0</td>\n",
       "      <td>1.0</td>\n",
       "      <td>10.0</td>\n",
       "      <td>43.0</td>\n",
       "      <td>5825543.0</td>\n",
       "      <td>69.0</td>\n",
       "      <td>60.0</td>\n",
       "      <td>0.0</td>\n",
       "      <td>1.407607e+09</td>\n",
       "      <td>0.0</td>\n",
       "      <td>-24.0</td>\n",
       "      <td>7</td>\n",
       "      <td>0.0</td>\n",
       "      <td>1.414776e+09</td>\n",
       "      <td>NaN</td>\n",
       "      <td>424668.0</td>\n",
       "      <td>NaN</td>\n",
       "      <td>3.0</td>\n",
       "    </tr>\n",
       "    <tr>\n",
       "      <th>1</th>\n",
       "      <td>2.0</td>\n",
       "      <td>1.0</td>\n",
       "      <td>334.0</td>\n",
       "      <td>129.0</td>\n",
       "      <td>31.0</td>\n",
       "      <td>112227.0</td>\n",
       "      <td>2.0</td>\n",
       "      <td>1.0</td>\n",
       "      <td>1.415700e+09</td>\n",
       "      <td>0.0</td>\n",
       "      <td>-29.0</td>\n",
       "      <td>1</td>\n",
       "      <td>0.0</td>\n",
       "      <td>1.386786e+09</td>\n",
       "      <td>86401.0</td>\n",
       "      <td>1274004.0</td>\n",
       "      <td>1.415715e+09</td>\n",
       "      <td>21.0</td>\n",
       "    </tr>\n",
       "    <tr>\n",
       "      <th>2</th>\n",
       "      <td>2.0</td>\n",
       "      <td>1.0</td>\n",
       "      <td>1.0</td>\n",
       "      <td>5.0</td>\n",
       "      <td>5825543.0</td>\n",
       "      <td>315.0</td>\n",
       "      <td>25219.0</td>\n",
       "      <td>1.0</td>\n",
       "      <td>1.415429e+09</td>\n",
       "      <td>0.0</td>\n",
       "      <td>-26.0</td>\n",
       "      <td>1</td>\n",
       "      <td>0.0</td>\n",
       "      <td>1.415612e+09</td>\n",
       "      <td>NaN</td>\n",
       "      <td>49380.0</td>\n",
       "      <td>NaN</td>\n",
       "      <td>16.0</td>\n",
       "    </tr>\n",
       "    <tr>\n",
       "      <th>3</th>\n",
       "      <td>1.0</td>\n",
       "      <td>1.0</td>\n",
       "      <td>422.0</td>\n",
       "      <td>2.0</td>\n",
       "      <td>5825543.0</td>\n",
       "      <td>392.0</td>\n",
       "      <td>44.0</td>\n",
       "      <td>1.0</td>\n",
       "      <td>1.411245e+09</td>\n",
       "      <td>0.0</td>\n",
       "      <td>22.0</td>\n",
       "      <td>7</td>\n",
       "      <td>0.0</td>\n",
       "      <td>1.379156e+09</td>\n",
       "      <td>NaN</td>\n",
       "      <td>19752.0</td>\n",
       "      <td>NaN</td>\n",
       "      <td>20.0</td>\n",
       "    </tr>\n",
       "    <tr>\n",
       "      <th>4</th>\n",
       "      <td>1.0</td>\n",
       "      <td>1.0</td>\n",
       "      <td>0.0</td>\n",
       "      <td>580.0</td>\n",
       "      <td>7699829.0</td>\n",
       "      <td>500.0</td>\n",
       "      <td>161068.0</td>\n",
       "      <td>1.0</td>\n",
       "      <td>1.354123e+09</td>\n",
       "      <td>0.0</td>\n",
       "      <td>26.0</td>\n",
       "      <td>7</td>\n",
       "      <td>0.0</td>\n",
       "      <td>1.415716e+09</td>\n",
       "      <td>3.0</td>\n",
       "      <td>5728080.0</td>\n",
       "      <td>1.415716e+09</td>\n",
       "      <td>18.0</td>\n",
       "    </tr>\n",
       "  </tbody>\n",
       "</table>\n",
       "</div>"
      ],
      "text/plain": [
       "    0    1      2      3          4         5         6    7             8   \\\n",
       "0  1.0  1.0   10.0   43.0  5825543.0      69.0      60.0  0.0  1.407607e+09   \n",
       "1  2.0  1.0  334.0  129.0       31.0  112227.0       2.0  1.0  1.415700e+09   \n",
       "2  2.0  1.0    1.0    5.0  5825543.0     315.0   25219.0  1.0  1.415429e+09   \n",
       "3  1.0  1.0  422.0    2.0  5825543.0     392.0      44.0  1.0  1.411245e+09   \n",
       "4  1.0  1.0    0.0  580.0  7699829.0     500.0  161068.0  1.0  1.354123e+09   \n",
       "\n",
       "    9     10  11   12            13       14         15            16    17  \n",
       "0  0.0 -24.0   7  0.0  1.414776e+09      NaN   424668.0           NaN   3.0  \n",
       "1  0.0 -29.0   1  0.0  1.386786e+09  86401.0  1274004.0  1.415715e+09  21.0  \n",
       "2  0.0 -26.0   1  0.0  1.415612e+09      NaN    49380.0           NaN  16.0  \n",
       "3  0.0  22.0   7  0.0  1.379156e+09      NaN    19752.0           NaN  20.0  \n",
       "4  0.0  26.0   7  0.0  1.415716e+09      3.0  5728080.0  1.415716e+09  18.0  "
      ]
     },
     "execution_count": 6,
     "metadata": {},
     "output_type": "execute_result"
    }
   ],
   "source": [
    "data.head()"
   ]
  },
  {
   "cell_type": "code",
   "execution_count": 7,
   "metadata": {},
   "outputs": [],
   "source": [
    "data = np.array(data)"
   ]
  },
  {
   "cell_type": "code",
   "execution_count": 23,
   "metadata": {},
   "outputs": [
    {
     "name": "stdout",
     "output_type": "stream",
     "text": [
      "0 1  nan\n",
      "1 2  nan\n",
      "1 3  nan\n",
      "1 4  nan\n",
      "1 5  nan\n",
      "1 6  nan\n",
      "1 7  nan\n",
      "1 8  nan\n",
      "1 9  nan\n",
      "1 10  nan\n",
      "1 11  nan\n",
      "1 12  nan\n",
      "1 13  nan\n",
      "1 14  nan\n",
      "1 15  nan\n",
      "1 16  nan\n",
      "1 17  nan\n",
      "2 12  nan\n",
      "2 13 -0.999997857874\n",
      "2 14 0.534301445474\n",
      "3 15 1.0\n",
      "7 14  nan\n",
      "7 16  nan\n",
      "12 13 -0.569396648868\n",
      "12 16  nan\n"
     ]
    },
    {
     "name": "stderr",
     "output_type": "stream",
     "text": [
      "/usr/local/Cellar/anaconda3/lib/python3.6/site-packages/numpy/lib/function_base.py:3167: RuntimeWarning: invalid value encountered in true_divide\n",
      "  c /= stddev[:, None]\n",
      "/usr/local/Cellar/anaconda3/lib/python3.6/site-packages/numpy/lib/function_base.py:3168: RuntimeWarning: invalid value encountered in true_divide\n",
      "  c /= stddev[None, :]\n"
     ]
    }
   ],
   "source": [
    "dataT = data.T\n",
    "\n",
    "for i in range(ncols):\n",
    "    for j in range(i+1, ncols):\n",
    "        ind = (~np.isnan(dataT[i])) * (~np.isnan(dataT[j]))\n",
    "        corr = np.corrcoef(dataT[i, ind], dataT[j, ind])[0, 1]\n",
    "        if np.isnan(corr):\n",
    "            print(i, j, ' nan')\n",
    "        elif np.abs(corr) > 0.5:\n",
    "            print(i, j, corr)"
   ]
  },
  {
   "cell_type": "code",
   "execution_count": 60,
   "metadata": {},
   "outputs": [],
   "source": [
    "def get_info(i, no_pic=True):\n",
    "    ind = ~np.isnan(dataT[i])\n",
    "    tmp = dataT[i, ind]\n",
    "    print('nans_num ', 1000 - ind.sum())\n",
    "    print('min      ', tmp.min())\n",
    "    print('mean     ', tmp.mean())\n",
    "    print('max      ', tmp.max())\n",
    "    print('norm_std ', ((tmp - tmp.min()) / (tmp.max() - tmp.min())).std())\n",
    "    if len(np.unique(tmp)) < 20:\n",
    "        print('Small amount of unique values: ', np.unique(tmp, return_counts=True))\n",
    "    if not no_pic:\n",
    "        seaborn.distplot(tmp)"
   ]
  },
  {
   "cell_type": "code",
   "execution_count": 28,
   "metadata": {},
   "outputs": [],
   "source": [
    "def scatter(i, j):\n",
    "    ind = (~np.isnan(dataT[i])) * (~np.isnan(dataT[j]))\n",
    "    seaborn.regplot(dataT[i, ind], dataT[j, ind], fit_reg=False)"
   ]
  },
  {
   "cell_type": "code",
   "execution_count": 61,
   "metadata": {},
   "outputs": [
    {
     "name": "stdout",
     "output_type": "stream",
     "text": [
      "nans_num  0\n",
      "min       1.0\n",
      "mean      1.0\n",
      "max       1.0\n",
      "norm_std  nan\n",
      "Small amount of unique values:  (array([ 1.]), array([1000]))\n"
     ]
    },
    {
     "name": "stderr",
     "output_type": "stream",
     "text": [
      "/usr/local/Cellar/anaconda3/lib/python3.6/site-packages/ipykernel_launcher.py:8: RuntimeWarning: invalid value encountered in true_divide\n",
      "  \n"
     ]
    }
   ],
   "source": [
    "get_info(1)"
   ]
  },
  {
   "cell_type": "code",
   "execution_count": 25,
   "metadata": {},
   "outputs": [],
   "source": [
    "columns_to_drop.append(1)"
   ]
  },
  {
   "cell_type": "code",
   "execution_count": 45,
   "metadata": {},
   "outputs": [
    {
     "data": {
      "image/png": "[encoded data removed]",
      "text/plain": [
       "<matplotlib.figure.Figure at 0x11794d710>"
      ]
     },
     "metadata": {},
     "output_type": "display_data"
    }
   ],
   "source": [
    "scatter(2, 13)"
   ]
  },
  {
   "cell_type": "code",
   "execution_count": 62,
   "metadata": {},
   "outputs": [
    {
     "name": "stdout",
     "output_type": "stream",
     "text": [
      "nans_num  33\n",
      "min       0.0\n",
      "mean      114.802481903\n",
      "max       1706.0\n",
      "norm_std  0.125607137833\n"
     ]
    }
   ],
   "source": [
    "get_info(2)"
   ]
  },
  {
   "cell_type": "code",
   "execution_count": 63,
   "metadata": {},
   "outputs": [
    {
     "name": "stdout",
     "output_type": "stream",
     "text": [
      "nans_num  0\n",
      "min       0.0\n",
      "mean      1359364164.61\n",
      "max       1415739293.0\n",
      "norm_std  0.177842609045\n"
     ]
    }
   ],
   "source": [
    "get_info(13)"
   ]
  },
  {
   "cell_type": "markdown",
   "metadata": {},
   "source": [
    "Столбцы 2 и 13 очень сильно коррелируют, при этом в 13-ом столбце отсутствуют неизвестные значения, так что удалим второй столбец, тогда заодно и не придется разбираться с тем, что у него непонятная корреляцию с 12-м столбцом."
   ]
  },
  {
   "cell_type": "code",
   "execution_count": 48,
   "metadata": {},
   "outputs": [],
   "source": [
    "columns_to_drop.append(2)"
   ]
  },
  {
   "cell_type": "code",
   "execution_count": 49,
   "metadata": {},
   "outputs": [
    {
     "data": {
      "image/png": "[encoded data removed]",
      "text/plain": [
       "<matplotlib.figure.Figure at 0x1178f9780>"
      ]
     },
     "metadata": {},
     "output_type": "display_data"
    }
   ],
   "source": [
    "scatter(3, 15)"
   ]
  },
  {
   "cell_type": "markdown",
   "metadata": {},
   "source": [
    "Видим, что столбцы 3 и 15 идентичны по модулю масштаба. Удалим тот, у которого больше пропусков."
   ]
  },
  {
   "cell_type": "code",
   "execution_count": 64,
   "metadata": {},
   "outputs": [
    {
     "name": "stdout",
     "output_type": "stream",
     "text": [
      "nans_num  0\n",
      "min       1.0\n",
      "mean      57.329\n",
      "max       2086.0\n",
      "norm_std  0.0801853616287\n"
     ]
    }
   ],
   "source": [
    "get_info(3)"
   ]
  },
  {
   "cell_type": "code",
   "execution_count": 65,
   "metadata": {},
   "outputs": [
    {
     "name": "stdout",
     "output_type": "stream",
     "text": [
      "nans_num  1\n",
      "min       9876.0\n",
      "mean      565265.069069\n",
      "max       20601336.0\n",
      "norm_std  0.0802131466629\n"
     ]
    }
   ],
   "source": [
    "get_info(15)"
   ]
  },
  {
   "cell_type": "code",
   "execution_count": 66,
   "metadata": {},
   "outputs": [],
   "source": [
    "columns_to_drop.append(15)"
   ]
  },
  {
   "cell_type": "code",
   "execution_count": 68,
   "metadata": {},
   "outputs": [
    {
     "data": {
      "image/png": "[encoded data removed]",
      "text/plain": [
       "<matplotlib.figure.Figure at 0x117d71048>"
      ]
     },
     "metadata": {},
     "output_type": "display_data"
    }
   ],
   "source": [
    "scatter(0, 11)"
   ]
  },
  {
   "cell_type": "markdown",
   "metadata": {},
   "source": [
    "Видим, что все точки собрались в кучки, что значит, что в нулевом столбце числа описывают дни недели, но начиная с воскресенья."
   ]
  },
  {
   "cell_type": "code",
   "execution_count": 69,
   "metadata": {},
   "outputs": [],
   "source": [
    "columns_to_drop.append(0)"
   ]
  },
  {
   "cell_type": "code",
   "execution_count": 72,
   "metadata": {},
   "outputs": [
    {
     "name": "stdout",
     "output_type": "stream",
     "text": [
      "nans_num  0\n",
      "min       0.0\n",
      "mean      0.999\n",
      "max       1.0\n",
      "norm_std  0.0316069612586\n",
      "Small amount of unique values:  (array([ 0.,  1.]), array([  1, 999]))\n"
     ]
    }
   ],
   "source": [
    "get_info(7)"
   ]
  },
  {
   "cell_type": "markdown",
   "metadata": {},
   "source": [
    "В седьмом столбце только одно значение из всех равно нулю. Вряд ли именно оно определяет мошенников, скорее похоже на баг, удалим:"
   ]
  },
  {
   "cell_type": "code",
   "execution_count": 73,
   "metadata": {},
   "outputs": [],
   "source": [
    "columns_to_drop.append(7)"
   ]
  },
  {
   "cell_type": "code",
   "execution_count": 74,
   "metadata": {},
   "outputs": [
    {
     "data": {
      "image/png": "[encoded data removed]",
      "text/plain": [
       "<matplotlib.figure.Figure at 0x1a18e9fba8>"
      ]
     },
     "metadata": {},
     "output_type": "display_data"
    }
   ],
   "source": [
    "scatter(12, 13)"
   ]
  },
  {
   "cell_type": "code",
   "execution_count": 81,
   "metadata": {},
   "outputs": [
    {
     "name": "stdout",
     "output_type": "stream",
     "text": [
      "nans_num  0\n",
      "min       0.0\n",
      "mean      0.011\n",
      "max       1.0\n",
      "norm_std  0.104302444842\n",
      "Small amount of unique values:  (array([ 0.,  1.]), array([989,  11]))\n"
     ]
    }
   ],
   "source": [
    "get_info(12)"
   ]
  },
  {
   "cell_type": "code",
   "execution_count": 83,
   "metadata": {},
   "outputs": [
    {
     "name": "stdout",
     "output_type": "stream",
     "text": [
      "nans_num  0\n",
      "min       0.0\n",
      "mean      1359364164.61\n",
      "max       1415739293.0\n",
      "norm_std  0.177842609045\n"
     ]
    }
   ],
   "source": [
    "get_info(13)"
   ]
  },
  {
   "cell_type": "code",
   "execution_count": 84,
   "metadata": {},
   "outputs": [
    {
     "name": "stdout",
     "output_type": "stream",
     "text": [
      "nans_num  783\n",
      "min       1415653371.0\n",
      "mean      1415699265.16\n",
      "max       1415738278.0\n",
      "norm_std  0.269303867876\n"
     ]
    },
    {
     "data": {
      "image/png": "[encoded data removed]",
      "text/plain": [
       "<matplotlib.figure.Figure at 0x1a1973f4a8>"
      ]
     },
     "metadata": {},
     "output_type": "display_data"
    }
   ],
   "source": [
    "get_info(16, no_pic=False)"
   ]
  },
  {
   "cell_type": "code",
   "execution_count": 87,
   "metadata": {},
   "outputs": [
    {
     "data": {
      "image/png": "[encoded data removed]",
      "text/plain": [
       "<matplotlib.figure.Figure at 0x1a18e65978>"
      ]
     },
     "metadata": {},
     "output_type": "display_data"
    }
   ],
   "source": [
    "scatter(12, 13)"
   ]
  },
  {
   "cell_type": "code",
   "execution_count": 88,
   "metadata": {},
   "outputs": [
    {
     "data": {
      "image/png": "[encoded data removed]",
      "text/plain": [
       "<matplotlib.figure.Figure at 0x1a18e90f98>"
      ]
     },
     "metadata": {},
     "output_type": "display_data"
    }
   ],
   "source": [
    "scatter(12, 16)"
   ]
  },
  {
   "cell_type": "markdown",
   "metadata": {},
   "source": [
    "Не очень понятно, что происходит в этих данных, пока оставим как есть."
   ]
  },
  {
   "cell_type": "code",
   "execution_count": 89,
   "metadata": {},
   "outputs": [
    {
     "data": {
      "text/plain": [
       "[1, 2, 15, 0, 7]"
      ]
     },
     "execution_count": 89,
     "metadata": {},
     "output_type": "execute_result"
    }
   ],
   "source": [
    "columns_to_drop"
   ]
  },
  {
   "cell_type": "markdown",
   "metadata": {},
   "source": [
    "## Run PCA to see if we can exclude some cols"
   ]
  },
  {
   "cell_type": "code",
   "execution_count": 108,
   "metadata": {},
   "outputs": [
    {
     "name": "stdout",
     "output_type": "stream",
     "text": [
      "Explained variance\n",
      "0.160595197044\n",
      "0.123804417643\n",
      "0.115992645542\n",
      "0.103743801385\n",
      "0.0804003603811\n",
      "0.0775473180541\n",
      "0.0748040690302\n",
      "0.0714848054509\n",
      "0.0527040330249\n",
      "0.047003070454\n",
      "0.0392045221423\n",
      "0.0321536648073\n",
      "0.0205620950416\n",
      "\n",
      "\n",
      "Coords of first eigenvector\n",
      "0 \t 0.467598406539\n",
      "1 \t -0.0738318300296\n",
      "2 \t -0.0588024626249\n",
      "3 \t -0.0779102209513\n",
      "4 \t -0.0933071789809\n",
      "5 \t -0.0331748710122\n",
      "6 \t 0.135624767743\n",
      "7 \t 0.00752813766881\n",
      "8 \t -0.0911789494899\n",
      "9 \t 0.130730697004\n",
      "10 \t 0.598075618169\n",
      "11 \t 0.593998096951\n",
      "12 \t 0.0467226555314\n"
     ]
    }
   ],
   "source": [
    "# https://www.clear.rice.edu/comp130/12spring/pca/pca_docs.shtml\n",
    "\n",
    "from matplotlib.mlab import PCA\n",
    "\n",
    "# delete cols with no variance\n",
    "data2 = np.nan_to_num(scipy.delete(data,columns_to_drop,1))\n",
    "\n",
    "# run PCA\n",
    "pca1 = PCA(data2)\n",
    "\n",
    "# % of explained variance\n",
    "print(\"Explained variance\")\n",
    "for d in pca1.fracs:\n",
    "    print(d)\n",
    "\n",
    "# first eigenvector\n",
    "print(\"\\n\\nCoords of first eigenvector\")\n",
    "for i, d in enumerate(pca1.Wt[0]):\n",
    "    print(i, '\\t', d)"
   ]
  },
  {
   "cell_type": "markdown",
   "metadata": {},
   "source": [
    "First eigenvector doesn't explain much variance (16% of total variance).\n",
    "\n",
    "If we decide that 16% of variance is ok for us, we could drop all other columns.\n",
    "\n",
    "(Remember that column #1 in original data was dropped before PCA, and column numbers are currently shifted!)"
   ]
  },
  {
   "cell_type": "code",
   "execution_count": null,
   "metadata": {},
   "outputs": [],
   "source": []
  }
 ],
 "metadata": {
  "kernelspec": {
   "display_name": "Python 3",
   "language": "python",
   "name": "python3"
  },
  "language_info": {
   "codemirror_mode": {
    "name": "ipython",
    "version": 3
   },
   "file_extension": ".py",
   "mimetype": "text/x-python",
   "name": "python",
   "nbconvert_exporter": "python",
   "pygments_lexer": "ipython3",
   "version": "3.6.3"
  }
 },
 "nbformat": 4,
 "nbformat_minor": 1
}
