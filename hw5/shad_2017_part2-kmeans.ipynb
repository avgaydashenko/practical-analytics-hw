{
 "cells": [
  {
   "cell_type": "code",
   "execution_count": 1,
   "metadata": {},
   "outputs": [],
   "source": [
    "import matplotlib\n",
    "import numpy as np\n",
    "import seaborn\n",
    "import matplotlib.pyplot as plt\n",
    "import pandas as pd\n",
    "%matplotlib inline  \n",
    "import numpy.ma as ma\n",
    "import scipy.cluster\n",
    "DEFAULT_DPI = 600\n",
    "matplotlib.rcParams['figure.figsize'] = (15, 8)"
   ]
  },
  {
   "cell_type": "code",
   "execution_count": 2,
   "metadata": {},
   "outputs": [],
   "source": [
    "# load data\n",
    "data = pd.read_csv('dataset_16_2', sep='\\t', header=None)"
   ]
  },
  {
   "cell_type": "code",
   "execution_count": 3,
   "metadata": {},
   "outputs": [
    {
     "data": {
      "text/html": [
       "<div>\n",
       "<style scoped>\n",
       "    .dataframe tbody tr th:only-of-type {\n",
       "        vertical-align: middle;\n",
       "    }\n",
       "\n",
       "    .dataframe tbody tr th {\n",
       "        vertical-align: top;\n",
       "    }\n",
       "\n",
       "    .dataframe thead th {\n",
       "        text-align: right;\n",
       "    }\n",
       "</style>\n",
       "<table border=\"1\" class=\"dataframe\">\n",
       "  <thead>\n",
       "    <tr style=\"text-align: right;\">\n",
       "      <th></th>\n",
       "      <th>0</th>\n",
       "      <th>1</th>\n",
       "      <th>2</th>\n",
       "      <th>3</th>\n",
       "      <th>4</th>\n",
       "      <th>5</th>\n",
       "      <th>6</th>\n",
       "      <th>7</th>\n",
       "      <th>8</th>\n",
       "      <th>9</th>\n",
       "      <th>...</th>\n",
       "      <th>45</th>\n",
       "      <th>46</th>\n",
       "      <th>47</th>\n",
       "      <th>48</th>\n",
       "      <th>49</th>\n",
       "      <th>50</th>\n",
       "      <th>51</th>\n",
       "      <th>52</th>\n",
       "      <th>53</th>\n",
       "      <th>54</th>\n",
       "    </tr>\n",
       "  </thead>\n",
       "  <tbody>\n",
       "    <tr>\n",
       "      <th>0</th>\n",
       "      <td>df84cb4ecdf09e5ff08ccf605c93cd33</td>\n",
       "      <td>7eebdb49c85c7111eea1f3ca52fce8bc</td>\n",
       "      <td>1429627313</td>\n",
       "      <td>162</td>\n",
       "      <td>86401</td>\n",
       "      <td>25910</td>\n",
       "      <td>6</td>\n",
       "      <td>13</td>\n",
       "      <td>0</td>\n",
       "      <td>64</td>\n",
       "      <td>...</td>\n",
       "      <td>1</td>\n",
       "      <td>3</td>\n",
       "      <td>0</td>\n",
       "      <td>3</td>\n",
       "      <td>100</td>\n",
       "      <td>-</td>\n",
       "      <td>-</td>\n",
       "      <td>0</td>\n",
       "      <td>0</td>\n",
       "      <td>2</td>\n",
       "    </tr>\n",
       "    <tr>\n",
       "      <th>1</th>\n",
       "      <td>6ab6709af8922e1e9d9eac9d11646d1a</td>\n",
       "      <td>d5df093718f8f9b239376b1c136c75b1</td>\n",
       "      <td>1443635700</td>\n",
       "      <td>0</td>\n",
       "      <td>-</td>\n",
       "      <td>6971</td>\n",
       "      <td>8</td>\n",
       "      <td>10</td>\n",
       "      <td>-</td>\n",
       "      <td>0</td>\n",
       "      <td>...</td>\n",
       "      <td>-</td>\n",
       "      <td>-</td>\n",
       "      <td>-</td>\n",
       "      <td>-</td>\n",
       "      <td>-</td>\n",
       "      <td>-</td>\n",
       "      <td>-</td>\n",
       "      <td>-</td>\n",
       "      <td>-</td>\n",
       "      <td>2</td>\n",
       "    </tr>\n",
       "    <tr>\n",
       "      <th>2</th>\n",
       "      <td>e9f8a2dddd2445264d2db1b32e5c5c2b</td>\n",
       "      <td>f39c150ff0956f915d84e87d45f6c1e4</td>\n",
       "      <td>1443653041</td>\n",
       "      <td>0</td>\n",
       "      <td>-</td>\n",
       "      <td>1825</td>\n",
       "      <td>1</td>\n",
       "      <td>2</td>\n",
       "      <td>-</td>\n",
       "      <td>0</td>\n",
       "      <td>...</td>\n",
       "      <td>-</td>\n",
       "      <td>-</td>\n",
       "      <td>-</td>\n",
       "      <td>-</td>\n",
       "      <td>-</td>\n",
       "      <td>-</td>\n",
       "      <td>-</td>\n",
       "      <td>-</td>\n",
       "      <td>-</td>\n",
       "      <td>1</td>\n",
       "    </tr>\n",
       "    <tr>\n",
       "      <th>3</th>\n",
       "      <td>f3d2cb85a12f21887813cb3b22dbe7d0</td>\n",
       "      <td>6c2b4d3fbecd5f628db1090bba5bc537</td>\n",
       "      <td>1405667008</td>\n",
       "      <td>439</td>\n",
       "      <td>-</td>\n",
       "      <td>15</td>\n",
       "      <td>9</td>\n",
       "      <td>9</td>\n",
       "      <td>-</td>\n",
       "      <td>0</td>\n",
       "      <td>...</td>\n",
       "      <td>-</td>\n",
       "      <td>-</td>\n",
       "      <td>-</td>\n",
       "      <td>-</td>\n",
       "      <td>-</td>\n",
       "      <td>-</td>\n",
       "      <td>-</td>\n",
       "      <td>-</td>\n",
       "      <td>-</td>\n",
       "      <td>1</td>\n",
       "    </tr>\n",
       "    <tr>\n",
       "      <th>4</th>\n",
       "      <td>d6b99af7ab5d05b6c4277877f9d3af73</td>\n",
       "      <td>782094d9d0b65b59aa87456e788cd125</td>\n",
       "      <td>1430733562</td>\n",
       "      <td>150</td>\n",
       "      <td>86401</td>\n",
       "      <td>29562</td>\n",
       "      <td>13</td>\n",
       "      <td>21</td>\n",
       "      <td>0</td>\n",
       "      <td>17</td>\n",
       "      <td>...</td>\n",
       "      <td>-</td>\n",
       "      <td>0</td>\n",
       "      <td>0</td>\n",
       "      <td>-</td>\n",
       "      <td>-</td>\n",
       "      <td>-</td>\n",
       "      <td>-</td>\n",
       "      <td>0</td>\n",
       "      <td>-</td>\n",
       "      <td>1</td>\n",
       "    </tr>\n",
       "  </tbody>\n",
       "</table>\n",
       "<p>5 rows × 55 columns</p>\n",
       "</div>"
      ],
      "text/plain": [
       "                                 0                                 1   \\\n",
       "0  df84cb4ecdf09e5ff08ccf605c93cd33  7eebdb49c85c7111eea1f3ca52fce8bc   \n",
       "1  6ab6709af8922e1e9d9eac9d11646d1a  d5df093718f8f9b239376b1c136c75b1   \n",
       "2  e9f8a2dddd2445264d2db1b32e5c5c2b  f39c150ff0956f915d84e87d45f6c1e4   \n",
       "3  f3d2cb85a12f21887813cb3b22dbe7d0  6c2b4d3fbecd5f628db1090bba5bc537   \n",
       "4  d6b99af7ab5d05b6c4277877f9d3af73  782094d9d0b65b59aa87456e788cd125   \n",
       "\n",
       "           2    3      4      5   6   7  8   9  ...  45  46  47  48   49  50  \\\n",
       "0  1429627313  162  86401  25910   6  13  0  64 ...   1   3   0   3  100   -   \n",
       "1  1443635700    0      -   6971   8  10  -   0 ...   -   -   -   -    -   -   \n",
       "2  1443653041    0      -   1825   1   2  -   0 ...   -   -   -   -    -   -   \n",
       "3  1405667008  439      -     15   9   9  -   0 ...   -   -   -   -    -   -   \n",
       "4  1430733562  150  86401  29562  13  21  0  17 ...   -   0   0   -    -   -   \n",
       "\n",
       "   51  52  53 54  \n",
       "0   -   0   0  2  \n",
       "1   -   -   -  2  \n",
       "2   -   -   -  1  \n",
       "3   -   -   -  1  \n",
       "4   -   0   -  1  \n",
       "\n",
       "[5 rows x 55 columns]"
      ]
     },
     "execution_count": 3,
     "metadata": {},
     "output_type": "execute_result"
    }
   ],
   "source": [
    "pd.DataFrame(data).head()"
   ]
  },
  {
   "cell_type": "code",
   "execution_count": 4,
   "metadata": {},
   "outputs": [],
   "source": [
    "val_to_num = {'-':np.nan, '':np.nan}\n",
    "\n",
    "ncols = 55\n",
    "for i in range(2, ncols):\n",
    "    data[i] = [val_to_num[s] if s in val_to_num.keys() else float(s) for s in data[i]]"
   ]
  },
  {
   "cell_type": "code",
   "execution_count": 5,
   "metadata": {},
   "outputs": [],
   "source": [
    "columns_to_drop = np.array([0, 49, 8]) + 2"
   ]
  },
  {
   "cell_type": "code",
   "execution_count": 6,
   "metadata": {},
   "outputs": [],
   "source": [
    "data = data.drop(columns=columns_to_drop)"
   ]
  },
  {
   "cell_type": "code",
   "execution_count": 7,
   "metadata": {},
   "outputs": [
    {
     "data": {
      "text/html": [
       "<div>\n",
       "<style scoped>\n",
       "    .dataframe tbody tr th:only-of-type {\n",
       "        vertical-align: middle;\n",
       "    }\n",
       "\n",
       "    .dataframe tbody tr th {\n",
       "        vertical-align: top;\n",
       "    }\n",
       "\n",
       "    .dataframe thead th {\n",
       "        text-align: right;\n",
       "    }\n",
       "</style>\n",
       "<table border=\"1\" class=\"dataframe\">\n",
       "  <thead>\n",
       "    <tr style=\"text-align: right;\">\n",
       "      <th></th>\n",
       "      <th>0</th>\n",
       "      <th>1</th>\n",
       "      <th>3</th>\n",
       "      <th>4</th>\n",
       "      <th>5</th>\n",
       "      <th>6</th>\n",
       "      <th>7</th>\n",
       "      <th>8</th>\n",
       "      <th>9</th>\n",
       "      <th>11</th>\n",
       "      <th>...</th>\n",
       "      <th>44</th>\n",
       "      <th>45</th>\n",
       "      <th>46</th>\n",
       "      <th>47</th>\n",
       "      <th>48</th>\n",
       "      <th>49</th>\n",
       "      <th>50</th>\n",
       "      <th>52</th>\n",
       "      <th>53</th>\n",
       "      <th>54</th>\n",
       "    </tr>\n",
       "  </thead>\n",
       "  <tbody>\n",
       "    <tr>\n",
       "      <th>0</th>\n",
       "      <td>df84cb4ecdf09e5ff08ccf605c93cd33</td>\n",
       "      <td>7eebdb49c85c7111eea1f3ca52fce8bc</td>\n",
       "      <td>162.0</td>\n",
       "      <td>86401.0</td>\n",
       "      <td>25910.0</td>\n",
       "      <td>6.0</td>\n",
       "      <td>13.0</td>\n",
       "      <td>0.0</td>\n",
       "      <td>64.0</td>\n",
       "      <td>1.0</td>\n",
       "      <td>...</td>\n",
       "      <td>5.0</td>\n",
       "      <td>1.0</td>\n",
       "      <td>3.0</td>\n",
       "      <td>0.0</td>\n",
       "      <td>3.0</td>\n",
       "      <td>100.0</td>\n",
       "      <td>NaN</td>\n",
       "      <td>0.0</td>\n",
       "      <td>0.0</td>\n",
       "      <td>2.0</td>\n",
       "    </tr>\n",
       "    <tr>\n",
       "      <th>1</th>\n",
       "      <td>6ab6709af8922e1e9d9eac9d11646d1a</td>\n",
       "      <td>d5df093718f8f9b239376b1c136c75b1</td>\n",
       "      <td>0.0</td>\n",
       "      <td>NaN</td>\n",
       "      <td>6971.0</td>\n",
       "      <td>8.0</td>\n",
       "      <td>10.0</td>\n",
       "      <td>NaN</td>\n",
       "      <td>0.0</td>\n",
       "      <td>1.0</td>\n",
       "      <td>...</td>\n",
       "      <td>NaN</td>\n",
       "      <td>NaN</td>\n",
       "      <td>NaN</td>\n",
       "      <td>NaN</td>\n",
       "      <td>NaN</td>\n",
       "      <td>NaN</td>\n",
       "      <td>NaN</td>\n",
       "      <td>NaN</td>\n",
       "      <td>NaN</td>\n",
       "      <td>2.0</td>\n",
       "    </tr>\n",
       "    <tr>\n",
       "      <th>2</th>\n",
       "      <td>e9f8a2dddd2445264d2db1b32e5c5c2b</td>\n",
       "      <td>f39c150ff0956f915d84e87d45f6c1e4</td>\n",
       "      <td>0.0</td>\n",
       "      <td>NaN</td>\n",
       "      <td>1825.0</td>\n",
       "      <td>1.0</td>\n",
       "      <td>2.0</td>\n",
       "      <td>NaN</td>\n",
       "      <td>0.0</td>\n",
       "      <td>1.0</td>\n",
       "      <td>...</td>\n",
       "      <td>NaN</td>\n",
       "      <td>NaN</td>\n",
       "      <td>NaN</td>\n",
       "      <td>NaN</td>\n",
       "      <td>NaN</td>\n",
       "      <td>NaN</td>\n",
       "      <td>NaN</td>\n",
       "      <td>NaN</td>\n",
       "      <td>NaN</td>\n",
       "      <td>1.0</td>\n",
       "    </tr>\n",
       "    <tr>\n",
       "      <th>3</th>\n",
       "      <td>f3d2cb85a12f21887813cb3b22dbe7d0</td>\n",
       "      <td>6c2b4d3fbecd5f628db1090bba5bc537</td>\n",
       "      <td>439.0</td>\n",
       "      <td>NaN</td>\n",
       "      <td>15.0</td>\n",
       "      <td>9.0</td>\n",
       "      <td>9.0</td>\n",
       "      <td>NaN</td>\n",
       "      <td>0.0</td>\n",
       "      <td>1.0</td>\n",
       "      <td>...</td>\n",
       "      <td>NaN</td>\n",
       "      <td>NaN</td>\n",
       "      <td>NaN</td>\n",
       "      <td>NaN</td>\n",
       "      <td>NaN</td>\n",
       "      <td>NaN</td>\n",
       "      <td>NaN</td>\n",
       "      <td>NaN</td>\n",
       "      <td>NaN</td>\n",
       "      <td>1.0</td>\n",
       "    </tr>\n",
       "    <tr>\n",
       "      <th>4</th>\n",
       "      <td>d6b99af7ab5d05b6c4277877f9d3af73</td>\n",
       "      <td>782094d9d0b65b59aa87456e788cd125</td>\n",
       "      <td>150.0</td>\n",
       "      <td>86401.0</td>\n",
       "      <td>29562.0</td>\n",
       "      <td>13.0</td>\n",
       "      <td>21.0</td>\n",
       "      <td>0.0</td>\n",
       "      <td>17.0</td>\n",
       "      <td>1.0</td>\n",
       "      <td>...</td>\n",
       "      <td>NaN</td>\n",
       "      <td>NaN</td>\n",
       "      <td>0.0</td>\n",
       "      <td>0.0</td>\n",
       "      <td>NaN</td>\n",
       "      <td>NaN</td>\n",
       "      <td>NaN</td>\n",
       "      <td>0.0</td>\n",
       "      <td>NaN</td>\n",
       "      <td>1.0</td>\n",
       "    </tr>\n",
       "  </tbody>\n",
       "</table>\n",
       "<p>5 rows × 52 columns</p>\n",
       "</div>"
      ],
      "text/plain": [
       "                                 0                                 1      3   \\\n",
       "0  df84cb4ecdf09e5ff08ccf605c93cd33  7eebdb49c85c7111eea1f3ca52fce8bc  162.0   \n",
       "1  6ab6709af8922e1e9d9eac9d11646d1a  d5df093718f8f9b239376b1c136c75b1    0.0   \n",
       "2  e9f8a2dddd2445264d2db1b32e5c5c2b  f39c150ff0956f915d84e87d45f6c1e4    0.0   \n",
       "3  f3d2cb85a12f21887813cb3b22dbe7d0  6c2b4d3fbecd5f628db1090bba5bc537  439.0   \n",
       "4  d6b99af7ab5d05b6c4277877f9d3af73  782094d9d0b65b59aa87456e788cd125  150.0   \n",
       "\n",
       "        4        5     6     7    8     9    11 ...    44   45   46   47   48  \\\n",
       "0  86401.0  25910.0   6.0  13.0  0.0  64.0  1.0 ...   5.0  1.0  3.0  0.0  3.0   \n",
       "1      NaN   6971.0   8.0  10.0  NaN   0.0  1.0 ...   NaN  NaN  NaN  NaN  NaN   \n",
       "2      NaN   1825.0   1.0   2.0  NaN   0.0  1.0 ...   NaN  NaN  NaN  NaN  NaN   \n",
       "3      NaN     15.0   9.0   9.0  NaN   0.0  1.0 ...   NaN  NaN  NaN  NaN  NaN   \n",
       "4  86401.0  29562.0  13.0  21.0  0.0  17.0  1.0 ...   NaN  NaN  0.0  0.0  NaN   \n",
       "\n",
       "      49  50   52   53   54  \n",
       "0  100.0 NaN  0.0  0.0  2.0  \n",
       "1    NaN NaN  NaN  NaN  2.0  \n",
       "2    NaN NaN  NaN  NaN  1.0  \n",
       "3    NaN NaN  NaN  NaN  1.0  \n",
       "4    NaN NaN  0.0  NaN  1.0  \n",
       "\n",
       "[5 rows x 52 columns]"
      ]
     },
     "execution_count": 7,
     "metadata": {},
     "output_type": "execute_result"
    }
   ],
   "source": [
    "data.head()"
   ]
  },
  {
   "cell_type": "code",
   "execution_count": 8,
   "metadata": {},
   "outputs": [],
   "source": [
    "def without_nans(i):\n",
    "    return data[i][~np.isnan(data[i])]"
   ]
  },
  {
   "cell_type": "markdown",
   "metadata": {},
   "source": [
    "### Define abnormality as rate of \"how often does current object appear in the tails of distributions\""
   ]
  },
  {
   "cell_type": "markdown",
   "metadata": {},
   "source": [
    "Поскольку `np.percentile` не будет работать как ожидается (мы же на самом деле хотим не хвосты распределений, а наименее часто встречающиеся значения) с мультимодальными данными (а тем более, когда наиболее часто встречающиеся значения на концах распределения, как в случае на графике ниже, например), я для каждого столбца ищу значения (корзины), которые входят в топ-2% и топ-10% наименее часто встречающихся, что соответствует 1 и 99 персентилям и 5 и 95 соответственно (если говорить о норманом распределении, где результат `percentile` совпадает с тем, что на самом деле нужно)."
   ]
  },
  {
   "cell_type": "code",
   "execution_count": 9,
   "metadata": {},
   "outputs": [
    {
     "data": {
      "text/plain": [
       "<matplotlib.axes._subplots.AxesSubplot at 0x1110364a8>"
      ]
     },
     "execution_count": 9,
     "metadata": {},
     "output_type": "execute_result"
    },
    {
     "data": {
      "image/png": "[encoded data removed]",
      "text/plain": [
       "<matplotlib.figure.Figure at 0x111036ac8>"
      ]
     },
     "metadata": {},
     "output_type": "display_data"
    }
   ],
   "source": [
    "seaborn.distplot(without_nans(4))"
   ]
  },
  {
   "cell_type": "code",
   "execution_count": 10,
   "metadata": {},
   "outputs": [],
   "source": [
    "def uncommon_values(values):\n",
    "    values = values[~np.isnan(values)]\n",
    "    hist = np.histogram(values, 'rice')\n",
    "    idx = np.argsort(hist[0])  # bins indeces sorted by sizes\n",
    "    cumsum = np.cumsum(hist[0][idx]) / len(values) \n",
    "    bins2 = cumsum < 0.02\n",
    "    bins10 = cumsum < 0.1\n",
    "    return np.array([hist[1][[i, i+1]] for i in idx[bins2]]), np.array([hist[1][[i, i+1]] for i in idx[bins10]])"
   ]
  },
  {
   "cell_type": "code",
   "execution_count": 11,
   "metadata": {},
   "outputs": [
    {
     "name": "stdout",
     "output_type": "stream",
     "text": [
      "1471 54\n",
      "2836 51\n",
      "97 47\n",
      "8075 47\n",
      "1470 46\n",
      "1459 45\n",
      "8821 45\n",
      "5039 44\n",
      "4421 44\n",
      "316 43\n",
      "\n",
      "2.14951627089 4.09746389954\n"
     ]
    }
   ],
   "source": [
    "np_data = np.array(data.drop(columns=[0,1]))\n",
    "\n",
    "abnormality = {}\n",
    "for i in range(np_data.shape[0]):\n",
    "    abnormality[i] = 0\n",
    "    \n",
    "for j in range(np_data.shape[1]):\n",
    "    bins2, bins10 = uncommon_values(np_data[:, j])\n",
    "    for i in range(np_data.shape[0]):\n",
    "        c = np_data[i][j]\n",
    "        if np.isnan(c):\n",
    "            continue\n",
    "        # 1 point of abnormalito for getting into top or bottom 5%\n",
    "        # +2 extra points of abnormality for getting into top or bottom 1%\n",
    "        for bin_left_bound, bin_right_bound in bins2:\n",
    "            if bin_left_bound <= c <= bin_right_bound:\n",
    "                abnormality[i] += 2\n",
    "                break\n",
    "        for bin_left_bound, bin_right_bound in bins10:\n",
    "            if bin_left_bound <= c <= bin_right_bound:\n",
    "                abnormality[i] += 1\n",
    "                break\n",
    "\n",
    "#print some top abnormality examples\n",
    "items = np.array(list(abnormality.items()))\n",
    "idx = np.argsort(-items[:, 1])\n",
    "\n",
    "for k, v in items[idx][:10]:\n",
    "    print(k, v)\n",
    "print()\n",
    "    \n",
    "# average abnormality \n",
    "print(np.mean(items[:, 1]), np.std(items[:, 1]))"
   ]
  },
  {
   "cell_type": "code",
   "execution_count": 13,
   "metadata": {},
   "outputs": [
    {
     "data": {
      "text/plain": [
       "<matplotlib.axes._subplots.AxesSubplot at 0x112b2da20>"
      ]
     },
     "execution_count": 13,
     "metadata": {},
     "output_type": "execute_result"
    },
    {
     "data": {
      "image/png": "[encoded data removed]",
      "text/plain": [
       "<matplotlib.figure.Figure at 0x112b4ad30>"
      ]
     },
     "metadata": {},
     "output_type": "display_data"
    }
   ],
   "source": [
    "seaborn.distplot(items[:, 1])"
   ]
  },
  {
   "cell_type": "markdown",
   "metadata": {},
   "source": [
    "### Run clusterization and check abnormality of clusters"
   ]
  },
  {
   "cell_type": "code",
   "execution_count": 26,
   "metadata": {},
   "outputs": [],
   "source": [
    "without_nans = []\n",
    "\n",
    "for i in data.columns:\n",
    "    if i in [0, 1]:\n",
    "        continue\n",
    "    if np.isnan(data[i]).any():\n",
    "        continue\n",
    "    without_nans.append(i)"
   ]
  },
  {
   "cell_type": "code",
   "execution_count": 27,
   "metadata": {},
   "outputs": [
    {
     "data": {
      "text/plain": [
       "15"
      ]
     },
     "execution_count": 27,
     "metadata": {},
     "output_type": "execute_result"
    }
   ],
   "source": [
    "len(without_nans)"
   ]
  },
  {
   "cell_type": "code",
   "execution_count": 28,
   "metadata": {},
   "outputs": [
    {
     "data": {
      "text/plain": [
       "[3, 5, 6, 7, 9, 11, 12, 13, 14, 15, 16, 17, 18, 34, 54]"
      ]
     },
     "execution_count": 28,
     "metadata": {},
     "output_type": "execute_result"
    }
   ],
   "source": [
    "without_nans"
   ]
  },
  {
   "cell_type": "code",
   "execution_count": 29,
   "metadata": {},
   "outputs": [],
   "source": [
    "np_wo_nans = np.array(data[without_nans])"
   ]
  },
  {
   "cell_type": "code",
   "execution_count": 31,
   "metadata": {},
   "outputs": [
    {
     "data": {
      "text/plain": [
       "(9096, 15)"
      ]
     },
     "execution_count": 31,
     "metadata": {},
     "output_type": "execute_result"
    }
   ],
   "source": [
    "np_wo_nans.shape"
   ]
  },
  {
   "cell_type": "code",
   "execution_count": 67,
   "metadata": {},
   "outputs": [
    {
     "name": "stderr",
     "output_type": "stream",
     "text": [
      "/usr/local/Cellar/anaconda3/lib/python3.6/site-packages/scipy/cluster/vq.py:523: UserWarning: One of the clusters is empty. Re-run kmeans with a different initialization.\n",
      "  warnings.warn(\"One of the clusters is empty. \"\n"
     ]
    },
    {
     "data": {
      "text/html": [
       "<div>\n",
       "<style scoped>\n",
       "    .dataframe tbody tr th:only-of-type {\n",
       "        vertical-align: middle;\n",
       "    }\n",
       "\n",
       "    .dataframe tbody tr th {\n",
       "        vertical-align: top;\n",
       "    }\n",
       "\n",
       "    .dataframe thead th {\n",
       "        text-align: right;\n",
       "    }\n",
       "</style>\n",
       "<table border=\"1\" class=\"dataframe\">\n",
       "  <thead>\n",
       "    <tr style=\"text-align: right;\">\n",
       "      <th></th>\n",
       "      <th>len</th>\n",
       "      <th>mean</th>\n",
       "      <th>std</th>\n",
       "      <th>truevar</th>\n",
       "    </tr>\n",
       "    <tr>\n",
       "      <th>cluster_id</th>\n",
       "      <th></th>\n",
       "      <th></th>\n",
       "      <th></th>\n",
       "      <th></th>\n",
       "    </tr>\n",
       "  </thead>\n",
       "  <tbody>\n",
       "    <tr>\n",
       "      <th>0</th>\n",
       "      <td>6281</td>\n",
       "      <td>1.134851</td>\n",
       "      <td>1.813642</td>\n",
       "      <td>3.288773</td>\n",
       "    </tr>\n",
       "    <tr>\n",
       "      <th>2</th>\n",
       "      <td>410</td>\n",
       "      <td>5.563415</td>\n",
       "      <td>6.963202</td>\n",
       "      <td>48.367930</td>\n",
       "    </tr>\n",
       "    <tr>\n",
       "      <th>3</th>\n",
       "      <td>553</td>\n",
       "      <td>4.546112</td>\n",
       "      <td>6.929389</td>\n",
       "      <td>47.929610</td>\n",
       "    </tr>\n",
       "    <tr>\n",
       "      <th>4</th>\n",
       "      <td>283</td>\n",
       "      <td>7.106007</td>\n",
       "      <td>7.911035</td>\n",
       "      <td>62.363321</td>\n",
       "    </tr>\n",
       "    <tr>\n",
       "      <th>5</th>\n",
       "      <td>386</td>\n",
       "      <td>6.036269</td>\n",
       "      <td>6.869373</td>\n",
       "      <td>47.066042</td>\n",
       "    </tr>\n",
       "    <tr>\n",
       "      <th>6</th>\n",
       "      <td>521</td>\n",
       "      <td>3.049904</td>\n",
       "      <td>4.813983</td>\n",
       "      <td>23.129947</td>\n",
       "    </tr>\n",
       "    <tr>\n",
       "      <th>7</th>\n",
       "      <td>662</td>\n",
       "      <td>2.566465</td>\n",
       "      <td>3.911381</td>\n",
       "      <td>15.275794</td>\n",
       "    </tr>\n",
       "  </tbody>\n",
       "</table>\n",
       "</div>"
      ],
      "text/plain": [
       "             len      mean       std    truevar\n",
       "cluster_id                                     \n",
       "0           6281  1.134851  1.813642   3.288773\n",
       "2            410  5.563415  6.963202  48.367930\n",
       "3            553  4.546112  6.929389  47.929610\n",
       "4            283  7.106007  7.911035  62.363321\n",
       "5            386  6.036269  6.869373  47.066042\n",
       "6            521  3.049904  4.813983  23.129947\n",
       "7            662  2.566465  3.911381  15.275794"
      ]
     },
     "execution_count": 67,
     "metadata": {},
     "output_type": "execute_result"
    }
   ],
   "source": [
    "# K-means clustering\n",
    "nclusters = 8\n",
    "\n",
    "centroid, label = scipy.cluster.vq.kmeans2(np_wo_nans, nclusters, iter=100, thresh=1e-05, minit='random', missing='warn')\n",
    "# result of this k-means is unstable, changes when you recalculate the cell\n",
    "\n",
    "# small trick, explained below\n",
    "def truevar(x): \n",
    "    return np.var(x)\n",
    "\n",
    "# put abnormality and cluster_id into DataFrame to easily calculate stats:\n",
    "df_abn = pd.DataFrame(list(abnormality.values()), columns=['abn'], dtype=int)\n",
    "df_label = pd.DataFrame(label, columns=['cluster_id'], dtype=int)\n",
    "cluster_stats = pd.concat([df_abn, df_label], axis=1)\\\n",
    ".pivot_table(\n",
    "    index='cluster_id',\n",
    "    values='abn',\n",
    "    aggfunc=[len, np.mean, np.std, truevar]\n",
    ")\n",
    "\n",
    "# reorder axis to make cluster_stats look simpler\n",
    "cluster_stats2 = cluster_stats.reorder_levels([1,0], axis=1)['abn']\n",
    "cluster_stats2\n"
   ]
  },
  {
   "cell_type": "markdown",
   "metadata": {},
   "source": [
    "### Calculate variance of abnormality inside clusters"
   ]
  },
  {
   "cell_type": "code",
   "execution_count": 70,
   "metadata": {},
   "outputs": [
    {
     "name": "stdout",
     "output_type": "stream",
     "text": [
      "\n",
      "total abnormality variance: 16.789210408\n",
      "abnormality variance explained by between-cluster variance: 18.17%\n",
      "abnormality variance left inside clusters: 81.83%\n"
     ]
    },
    {
     "data": {
      "text/html": [
       "<div>\n",
       "<style scoped>\n",
       "    .dataframe tbody tr th:only-of-type {\n",
       "        vertical-align: middle;\n",
       "    }\n",
       "\n",
       "    .dataframe tbody tr th {\n",
       "        vertical-align: top;\n",
       "    }\n",
       "\n",
       "    .dataframe thead th {\n",
       "        text-align: right;\n",
       "    }\n",
       "</style>\n",
       "<table border=\"1\" class=\"dataframe\">\n",
       "  <thead>\n",
       "    <tr style=\"text-align: right;\">\n",
       "      <th></th>\n",
       "      <th>len</th>\n",
       "      <th>mean</th>\n",
       "      <th>std</th>\n",
       "      <th>truevar</th>\n",
       "      <th>var_in_cluster</th>\n",
       "      <th>var_in_cluster_%</th>\n",
       "    </tr>\n",
       "    <tr>\n",
       "      <th>cluster_id</th>\n",
       "      <th></th>\n",
       "      <th></th>\n",
       "      <th></th>\n",
       "      <th></th>\n",
       "      <th></th>\n",
       "      <th></th>\n",
       "    </tr>\n",
       "  </thead>\n",
       "  <tbody>\n",
       "    <tr>\n",
       "      <th>0</th>\n",
       "      <td>6281</td>\n",
       "      <td>1.134851</td>\n",
       "      <td>1.813642</td>\n",
       "      <td>3.288773</td>\n",
       "      <td>2.270974</td>\n",
       "      <td>0.135264</td>\n",
       "    </tr>\n",
       "    <tr>\n",
       "      <th>2</th>\n",
       "      <td>410</td>\n",
       "      <td>5.563415</td>\n",
       "      <td>6.963202</td>\n",
       "      <td>48.367930</td>\n",
       "      <td>2.180173</td>\n",
       "      <td>0.129856</td>\n",
       "    </tr>\n",
       "    <tr>\n",
       "      <th>3</th>\n",
       "      <td>553</td>\n",
       "      <td>4.546112</td>\n",
       "      <td>6.929389</td>\n",
       "      <td>47.929610</td>\n",
       "      <td>2.913926</td>\n",
       "      <td>0.173559</td>\n",
       "    </tr>\n",
       "    <tr>\n",
       "      <th>4</th>\n",
       "      <td>283</td>\n",
       "      <td>7.106007</td>\n",
       "      <td>7.911035</td>\n",
       "      <td>62.363321</td>\n",
       "      <td>1.940284</td>\n",
       "      <td>0.115567</td>\n",
       "    </tr>\n",
       "    <tr>\n",
       "      <th>5</th>\n",
       "      <td>386</td>\n",
       "      <td>6.036269</td>\n",
       "      <td>6.869373</td>\n",
       "      <td>47.066042</td>\n",
       "      <td>1.997306</td>\n",
       "      <td>0.118964</td>\n",
       "    </tr>\n",
       "    <tr>\n",
       "      <th>6</th>\n",
       "      <td>521</td>\n",
       "      <td>3.049904</td>\n",
       "      <td>4.813983</td>\n",
       "      <td>23.129947</td>\n",
       "      <td>1.324835</td>\n",
       "      <td>0.078910</td>\n",
       "    </tr>\n",
       "    <tr>\n",
       "      <th>7</th>\n",
       "      <td>662</td>\n",
       "      <td>2.566465</td>\n",
       "      <td>3.911381</td>\n",
       "      <td>15.275794</td>\n",
       "      <td>1.111761</td>\n",
       "      <td>0.066219</td>\n",
       "    </tr>\n",
       "  </tbody>\n",
       "</table>\n",
       "</div>"
      ],
      "text/plain": [
       "             len      mean       std    truevar  var_in_cluster  \\\n",
       "cluster_id                                                        \n",
       "0           6281  1.134851  1.813642   3.288773        2.270974   \n",
       "2            410  5.563415  6.963202  48.367930        2.180173   \n",
       "3            553  4.546112  6.929389  47.929610        2.913926   \n",
       "4            283  7.106007  7.911035  62.363321        1.940284   \n",
       "5            386  6.036269  6.869373  47.066042        1.997306   \n",
       "6            521  3.049904  4.813983  23.129947        1.324835   \n",
       "7            662  2.566465  3.911381  15.275794        1.111761   \n",
       "\n",
       "            var_in_cluster_%  \n",
       "cluster_id                    \n",
       "0                   0.135264  \n",
       "2                   0.129856  \n",
       "3                   0.173559  \n",
       "4                   0.115567  \n",
       "5                   0.118964  \n",
       "6                   0.078910  \n",
       "7                   0.066219  "
      ]
     },
     "execution_count": 70,
     "metadata": {},
     "output_type": "execute_result"
    }
   ],
   "source": [
    "# calculate within-cluster variance and % of total variance explained\n",
    "cluster_stats2['var_in_cluster'] = cluster_stats2['truevar'] * cluster_stats2['len'] / sum(cluster_stats2['len'])\n",
    "totvar = np.var(list(abnormality.values()))\n",
    "cluster_stats2['var_in_cluster_%'] = cluster_stats2['var_in_cluster'] / totvar\n",
    "\n",
    "print('')\n",
    "print('total abnormality variance: %s' % totvar)\n",
    "print('abnormality variance explained by between-cluster variance: %.2f%%' % ((1-sum(cluster_stats2['var_in_cluster_%'])) *100 ))\n",
    "print('abnormality variance left inside clusters: %.2f%%' % (sum(cluster_stats2['var_in_cluster_%']) *100 ))\n",
    "\n",
    "cluster_stats2\n"
   ]
  },
  {
   "cell_type": "markdown",
   "metadata": {},
   "source": [
    "Найдите переменные, которые похожи на категориальные (или могут быть интерпретированы как категориальные). Изучите распределение аномальности в кластерах, образованных значениями этих переменных."
   ]
  },
  {
   "cell_type": "code",
   "execution_count": 12,
   "metadata": {},
   "outputs": [],
   "source": [
    "possible_categoric_features = np.array([9, 10, 28, 32, 35, 36, 40]) + 2"
   ]
  },
  {
   "cell_type": "code",
   "execution_count": 72,
   "metadata": {},
   "outputs": [],
   "source": [
    "np_cat_wo_nans = data[np.intersect1d(possible_categoric_features, without_nans)]"
   ]
  },
  {
   "cell_type": "code",
   "execution_count": 74,
   "metadata": {},
   "outputs": [
    {
     "name": "stderr",
     "output_type": "stream",
     "text": [
      "/usr/local/Cellar/anaconda3/lib/python3.6/site-packages/scipy/cluster/vq.py:523: UserWarning: One of the clusters is empty. Re-run kmeans with a different initialization.\n",
      "  warnings.warn(\"One of the clusters is empty. \"\n"
     ]
    },
    {
     "data": {
      "text/html": [
       "<div>\n",
       "<style scoped>\n",
       "    .dataframe tbody tr th:only-of-type {\n",
       "        vertical-align: middle;\n",
       "    }\n",
       "\n",
       "    .dataframe tbody tr th {\n",
       "        vertical-align: top;\n",
       "    }\n",
       "\n",
       "    .dataframe thead th {\n",
       "        text-align: right;\n",
       "    }\n",
       "</style>\n",
       "<table border=\"1\" class=\"dataframe\">\n",
       "  <thead>\n",
       "    <tr style=\"text-align: right;\">\n",
       "      <th></th>\n",
       "      <th>len</th>\n",
       "      <th>mean</th>\n",
       "      <th>std</th>\n",
       "      <th>truevar</th>\n",
       "    </tr>\n",
       "    <tr>\n",
       "      <th>cluster_id</th>\n",
       "      <th></th>\n",
       "      <th></th>\n",
       "      <th></th>\n",
       "      <th></th>\n",
       "    </tr>\n",
       "  </thead>\n",
       "  <tbody>\n",
       "    <tr>\n",
       "      <th>2</th>\n",
       "      <td>8034</td>\n",
       "      <td>1.863829</td>\n",
       "      <td>3.710940</td>\n",
       "      <td>13.769359</td>\n",
       "    </tr>\n",
       "    <tr>\n",
       "      <th>3</th>\n",
       "      <td>41</td>\n",
       "      <td>8.536585</td>\n",
       "      <td>7.655382</td>\n",
       "      <td>57.175491</td>\n",
       "    </tr>\n",
       "    <tr>\n",
       "      <th>6</th>\n",
       "      <td>846</td>\n",
       "      <td>2.300236</td>\n",
       "      <td>2.538634</td>\n",
       "      <td>6.437045</td>\n",
       "    </tr>\n",
       "    <tr>\n",
       "      <th>7</th>\n",
       "      <td>175</td>\n",
       "      <td>13.040000</td>\n",
       "      <td>8.022497</td>\n",
       "      <td>63.992686</td>\n",
       "    </tr>\n",
       "  </tbody>\n",
       "</table>\n",
       "</div>"
      ],
      "text/plain": [
       "             len       mean       std    truevar\n",
       "cluster_id                                      \n",
       "2           8034   1.863829  3.710940  13.769359\n",
       "3             41   8.536585  7.655382  57.175491\n",
       "6            846   2.300236  2.538634   6.437045\n",
       "7            175  13.040000  8.022497  63.992686"
      ]
     },
     "execution_count": 74,
     "metadata": {},
     "output_type": "execute_result"
    }
   ],
   "source": [
    "centroid, label = scipy.cluster.vq.kmeans2(np_cat_wo_nans, nclusters, iter=100, thresh=1e-05, minit='random', missing='warn')\n",
    "\n",
    "df_abn = pd.DataFrame(list(abnormality.values()), columns=['abn'], dtype=int)\n",
    "df_label = pd.DataFrame(label, columns=['cluster_id'], dtype=int)\n",
    "cluster_stats = pd.concat([df_abn, df_label], axis=1)\\\n",
    ".pivot_table(\n",
    "    index='cluster_id',\n",
    "    values='abn',\n",
    "    aggfunc=[len, np.mean, np.std, truevar]\n",
    ")\n",
    "\n",
    "cluster_stats2 = cluster_stats.reorder_levels([1,0], axis=1)['abn']\n",
    "cluster_stats2"
   ]
  },
  {
   "cell_type": "code",
   "execution_count": 75,
   "metadata": {},
   "outputs": [
    {
     "name": "stdout",
     "output_type": "stream",
     "text": [
      "\n",
      "total abnormality variance: 16.789210408\n",
      "abnormality variance explained by between-cluster variance: 15.13%\n",
      "abnormality variance left inside clusters: 84.87%\n"
     ]
    },
    {
     "data": {
      "text/html": [
       "<div>\n",
       "<style scoped>\n",
       "    .dataframe tbody tr th:only-of-type {\n",
       "        vertical-align: middle;\n",
       "    }\n",
       "\n",
       "    .dataframe tbody tr th {\n",
       "        vertical-align: top;\n",
       "    }\n",
       "\n",
       "    .dataframe thead th {\n",
       "        text-align: right;\n",
       "    }\n",
       "</style>\n",
       "<table border=\"1\" class=\"dataframe\">\n",
       "  <thead>\n",
       "    <tr style=\"text-align: right;\">\n",
       "      <th></th>\n",
       "      <th>len</th>\n",
       "      <th>mean</th>\n",
       "      <th>std</th>\n",
       "      <th>truevar</th>\n",
       "      <th>var_in_cluster</th>\n",
       "      <th>var_in_cluster_%</th>\n",
       "    </tr>\n",
       "    <tr>\n",
       "      <th>cluster_id</th>\n",
       "      <th></th>\n",
       "      <th></th>\n",
       "      <th></th>\n",
       "      <th></th>\n",
       "      <th></th>\n",
       "      <th></th>\n",
       "    </tr>\n",
       "  </thead>\n",
       "  <tbody>\n",
       "    <tr>\n",
       "      <th>2</th>\n",
       "      <td>8034</td>\n",
       "      <td>1.863829</td>\n",
       "      <td>3.710940</td>\n",
       "      <td>13.769359</td>\n",
       "      <td>12.161723</td>\n",
       "      <td>0.724377</td>\n",
       "    </tr>\n",
       "    <tr>\n",
       "      <th>3</th>\n",
       "      <td>41</td>\n",
       "      <td>8.536585</td>\n",
       "      <td>7.655382</td>\n",
       "      <td>57.175491</td>\n",
       "      <td>0.257717</td>\n",
       "      <td>0.015350</td>\n",
       "    </tr>\n",
       "    <tr>\n",
       "      <th>6</th>\n",
       "      <td>846</td>\n",
       "      <td>2.300236</td>\n",
       "      <td>2.538634</td>\n",
       "      <td>6.437045</td>\n",
       "      <td>0.598696</td>\n",
       "      <td>0.035660</td>\n",
       "    </tr>\n",
       "    <tr>\n",
       "      <th>7</th>\n",
       "      <td>175</td>\n",
       "      <td>13.040000</td>\n",
       "      <td>8.022497</td>\n",
       "      <td>63.992686</td>\n",
       "      <td>1.231170</td>\n",
       "      <td>0.073331</td>\n",
       "    </tr>\n",
       "  </tbody>\n",
       "</table>\n",
       "</div>"
      ],
      "text/plain": [
       "             len       mean       std    truevar  var_in_cluster  \\\n",
       "cluster_id                                                         \n",
       "2           8034   1.863829  3.710940  13.769359       12.161723   \n",
       "3             41   8.536585  7.655382  57.175491        0.257717   \n",
       "6            846   2.300236  2.538634   6.437045        0.598696   \n",
       "7            175  13.040000  8.022497  63.992686        1.231170   \n",
       "\n",
       "            var_in_cluster_%  \n",
       "cluster_id                    \n",
       "2                   0.724377  \n",
       "3                   0.015350  \n",
       "6                   0.035660  \n",
       "7                   0.073331  "
      ]
     },
     "execution_count": 75,
     "metadata": {},
     "output_type": "execute_result"
    }
   ],
   "source": [
    "# calculate within-cluster variance and % of total variance explained\n",
    "cluster_stats2['var_in_cluster'] = cluster_stats2['truevar'] * cluster_stats2['len'] / sum(cluster_stats2['len'])\n",
    "totvar = np.var(list(abnormality.values()))\n",
    "cluster_stats2['var_in_cluster_%'] = cluster_stats2['var_in_cluster'] / totvar\n",
    "\n",
    "print('')\n",
    "print('total abnormality variance: %s' % totvar)\n",
    "print('abnormality variance explained by between-cluster variance: %.2f%%' % ((1-sum(cluster_stats2['var_in_cluster_%'])) *100 ))\n",
    "print('abnormality variance left inside clusters: %.2f%%' % (sum(cluster_stats2['var_in_cluster_%']) *100 ))\n",
    "\n",
    "cluster_stats2\n"
   ]
  },
  {
   "cell_type": "markdown",
   "metadata": {},
   "source": [
    "Кажется, кластер 7 содержит фродовых пользователей: у него большое среднее значение abnormality и небольшая дисперсия."
   ]
  },
  {
   "cell_type": "code",
   "execution_count": 76,
   "metadata": {},
   "outputs": [],
   "source": [
    "X = np_wo_nans\n",
    "y = list(abnormality.values())"
   ]
  },
  {
   "cell_type": "code",
   "execution_count": 79,
   "metadata": {},
   "outputs": [
    {
     "data": {
      "text/plain": [
       "((9096, 15), 9096)"
      ]
     },
     "execution_count": 79,
     "metadata": {},
     "output_type": "execute_result"
    }
   ],
   "source": [
    "X.shape, len(y)"
   ]
  },
  {
   "cell_type": "code",
   "execution_count": 80,
   "metadata": {},
   "outputs": [
    {
     "data": {
      "text/plain": [
       "LinearRegression(copy_X=True, fit_intercept=True, n_jobs=1, normalize=False)"
      ]
     },
     "execution_count": 80,
     "metadata": {},
     "output_type": "execute_result"
    }
   ],
   "source": [
    "from sklearn import linear_model\n",
    "reg = linear_model.LinearRegression()\n",
    "reg.fit(X, y)"
   ]
  },
  {
   "cell_type": "code",
   "execution_count": 85,
   "metadata": {},
   "outputs": [
    {
     "name": "stdout",
     "output_type": "stream",
     "text": [
      "MSE:  4.61191389965\n"
     ]
    }
   ],
   "source": [
    "from sklearn.metrics import mean_squared_error\n",
    "print('MSE: ', mean_squared_error(y, reg.predict(X)))"
   ]
  },
  {
   "cell_type": "code",
   "execution_count": 90,
   "metadata": {},
   "outputs": [
    {
     "name": "stdout",
     "output_type": "stream",
     "text": [
      "Model coefs: \n",
      " [  1.76573123e-03   6.08672500e-05   9.36875083e-02  -1.37090632e-01\n",
      "   2.79755941e-02  -8.30543385e-01   6.28582839e+00   1.36300020e-02\n",
      "  -1.51869224e-02   1.03700233e-01  -3.75729833e-03   3.12075705e-03\n",
      "   5.58482643e-02   1.35001375e+00   4.74741870e-01]\n"
     ]
    }
   ],
   "source": [
    "print('Model coefs: \\n', reg.coef_)"
   ]
  },
  {
   "cell_type": "code",
   "execution_count": 91,
   "metadata": {},
   "outputs": [],
   "source": [
    "y_binary = np.array(y) >= 6"
   ]
  },
  {
   "cell_type": "code",
   "execution_count": 94,
   "metadata": {},
   "outputs": [],
   "source": [
    "from sklearn import linear_model as lm\n",
    "from sklearn.ensemble import RandomForestClassifier as RFC, GradientBoostingClassifier as GBC\n",
    "\n",
    "# methods\n",
    "Logit = lm.LogisticRegression(\n",
    "    C=1.0, \n",
    "    class_weight=None, \n",
    "    dual=False, \n",
    "    fit_intercept=True, \n",
    "    intercept_scaling=1, \n",
    "    penalty='l2', \n",
    "    random_state=1, \n",
    "    tol=0.001\n",
    ")\n",
    "RF = RFC()\n",
    "GBC = GBC()"
   ]
  },
  {
   "cell_type": "code",
   "execution_count": 98,
   "metadata": {},
   "outputs": [
    {
     "name": "stdout",
     "output_type": "stream",
     "text": [
      "<class 'sklearn.linear_model.logistic.LogisticRegression'> score: test\t0.953846153846\n",
      "<class 'sklearn.linear_model.logistic.LogisticRegression'> score: learn\t0.949422759758\n",
      "\n",
      "Distribution of labels\n",
      "(array([8255,  841]), array([ 0. ,  0.5,  1. ]))\n",
      "\n",
      "Distribution of predicted labels\n",
      "(array([8467,  629]), array([ 0. ,  0.5,  1. ]))\n",
      "\n",
      "[0, 0, 0, 0, 1, 1, 1, 1, 0, 0, 0, 0, 0, 0, 0, 0, 0, 0, 0, 0]\n",
      "[0, 0, 0, 0, 0, 1, 1, 1, 0, 0, 0, 0, 0, 0, 0, 0, 0, 0, 0, 1]\n",
      "[[ 1.          0.67441915]\n",
      " [ 0.67441915  1.        ]]\n",
      "\n",
      "Abnormalities 841\n",
      "Predicted abnormalities 629\n",
      "Correct predictions for abnormalities 509\n",
      "\n",
      "Precision of abnormality detection  0.809220985692\n",
      "Recall of abnormality detection  0.605231866825\n",
      "\n",
      "F1-measure 0.692517006803\n",
      "\n",
      "Overall stats:\n",
      "Right verdicts 8644\n",
      "Wrong verdicts 452\n",
      "\n",
      "\n",
      "<class 'sklearn.ensemble.forest.RandomForestClassifier'> score: test\t0.960989010989\n",
      "<class 'sklearn.ensemble.forest.RandomForestClassifier'> score: learn\t0.996838922485\n",
      "\n",
      "Distribution of labels\n",
      "(array([8255,  841]), array([ 0. ,  0.5,  1. ]))\n",
      "\n",
      "Distribution of predicted labels\n",
      "(array([8307,  789]), array([ 0. ,  0.5,  1. ]))\n",
      "\n",
      "[0, 0, 0, 0, 0, 1, 1, 1, 0, 0, 0, 0, 0, 0, 0, 0, 0, 0, 0, 1]\n",
      "[0, 0, 0, 0, 0, 1, 1, 1, 0, 0, 0, 0, 0, 0, 0, 0, 0, 0, 0, 1]\n",
      "[[ 1.          0.93723747]\n",
      " [ 0.93723747  1.        ]]\n",
      "\n",
      "Abnormalities 841\n",
      "Predicted abnormalities 789\n",
      "Correct predictions for abnormalities 768\n",
      "\n",
      "Precision of abnormality detection  0.973384030418\n",
      "Recall of abnormality detection  0.913198573127\n",
      "\n",
      "F1-measure 0.942331288344\n",
      "\n",
      "Overall stats:\n",
      "Right verdicts 9002\n",
      "Wrong verdicts 94\n",
      "\n",
      "\n",
      "<class 'sklearn.ensemble.gradient_boosting.GradientBoostingClassifier'> score: test\t0.968681318681\n",
      "<class 'sklearn.ensemble.gradient_boosting.GradientBoostingClassifier'> score: learn\t0.976910390324\n",
      "\n",
      "Distribution of labels\n",
      "(array([8255,  841]), array([ 0. ,  0.5,  1. ]))\n",
      "\n",
      "Distribution of predicted labels\n",
      "(array([8378,  718]), array([ 0. ,  0.5,  1. ]))\n",
      "\n",
      "[0, 0, 0, 0, 1, 1, 1, 1, 0, 0, 0, 0, 0, 0, 0, 0, 0, 0, 0, 1]\n",
      "[0, 0, 0, 0, 0, 1, 1, 1, 0, 0, 0, 0, 0, 0, 0, 0, 0, 0, 0, 1]\n",
      "[[ 1.          0.84539113]\n",
      " [ 0.84539113  1.        ]]\n",
      "\n",
      "Abnormalities 841\n",
      "Predicted abnormalities 718\n",
      "Correct predictions for abnormalities 667\n",
      "\n",
      "Precision of abnormality detection  0.928969359331\n",
      "Recall of abnormality detection  0.793103448276\n",
      "\n",
      "F1-measure 0.855676715843\n",
      "\n",
      "Overall stats:\n",
      "Right verdicts 8871\n",
      "Wrong verdicts 225\n",
      "\n",
      "\n"
     ]
    }
   ],
   "source": [
    "features = np_wo_nans\n",
    "labels = y_binary\n",
    "\n",
    "N_learn = int(len(y_binary) * 0.8)\n",
    "learn_features = features[:N_learn]\n",
    "test_features =  features[N_learn:]\n",
    "learn_labels = labels[:N_learn]\n",
    "test_labels =  labels[N_learn:]\n",
    "\n",
    "for cur_method in [Logit, RF, GBC]:\n",
    "\n",
    "    cur_method.fit(learn_features, learn_labels)\n",
    "\n",
    "    predict = cur_method.predict(features)\n",
    "\n",
    "    # print 'logit score: test\\t%s' % Logit.score(test_features, test_labels)\n",
    "    # print 'logit score: learn\\t%s' % Logit.score(learn_features, learn_labels)\n",
    "    print('%s score: test\\t%s' % (cur_method.__class__, cur_method.score(test_features, test_labels)))\n",
    "    print('%s score: learn\\t%s' % (cur_method.__class__, cur_method.score(learn_features, learn_labels)))\n",
    "\n",
    "\n",
    "    print(\"\\nDistribution of labels\")\n",
    "    print(np.histogram(labels,2))\n",
    "    print(\"\\nDistribution of predicted labels\")\n",
    "    print(np.histogram(predict,2))\n",
    "    \n",
    "    print()\n",
    "    \n",
    "    # estimate whether our fit is good or not\n",
    "    print([int(p) for p in list(predict)[:20]])\n",
    "    print([int(l) for l in labels[:20]])\n",
    "    print(np.corrcoef(predict, labels))\n",
    "\n",
    "    print('\\nAbnormalities', np.sum(labels))\n",
    "    print('Predicted abnormalities', np.sum(predict))\n",
    "    print('Correct predictions for abnormalities', np.sum(predict*labels))\n",
    "\n",
    "    prec = np.sum(predict*labels)/(np.sum(predict)+.0)\n",
    "    recall = np.sum(predict*labels)/(np.sum(labels)+.0)\n",
    "    print('\\nPrecision of abnormality detection ', prec)\n",
    "    print('Recall of abnormality detection ', recall)\n",
    "    print(\"\\nF1-measure\", 2*prec*recall/(prec+recall))\n",
    "\n",
    "\n",
    "    print('\\nOverall stats:')\n",
    "    print('Right verdicts', np.sum(predict==labels))\n",
    "    print('Wrong verdicts', np.sum(predict!=labels))\n",
    "\n",
    "    print()\n",
    "    print()"
   ]
  },
  {
   "cell_type": "code",
   "execution_count": null,
   "metadata": {},
   "outputs": [],
   "source": []
  }
 ],
 "metadata": {
  "kernelspec": {
   "display_name": "Python 3",
   "language": "python",
   "name": "python3"
  },
  "language_info": {
   "codemirror_mode": {
    "name": "ipython",
    "version": 3
   },
   "file_extension": ".py",
   "mimetype": "text/x-python",
   "name": "python",
   "nbconvert_exporter": "python",
   "pygments_lexer": "ipython3",
   "version": "3.6.3"
  }
 },
 "nbformat": 4,
 "nbformat_minor": 1
}
